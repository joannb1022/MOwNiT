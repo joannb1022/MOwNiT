{
 "cells": [
  {
   "cell_type": "code",
   "execution_count": 3,
   "metadata": {},
   "outputs": [],
   "source": [
    "from mpmath import mp, mpf, workdps\n",
    "import numpy as np\n",
    "import matplotlib.pyplot as plt\n",
    "import colorsys"
   ]
  },
  {
   "cell_type": "code",
   "execution_count": 4,
   "metadata": {},
   "outputs": [
    {
     "name": "stdout",
     "output_type": "stream",
     "text": [
      "Mpmath settings:\n",
      "  mp.prec = 169               [default: 53]\n",
      "  mp.dps = 50                 [default: 15]\n",
      "  mp.trap_complex = False     [default: False]\n"
     ]
    }
   ],
   "source": [
    "mp.dps = 50\n",
    "print(mp)"
   ]
  },
  {
   "cell_type": "markdown",
   "metadata": {},
   "source": [
    "# Zad 1 "
   ]
  },
  {
   "cell_type": "code",
   "execution_count": 5,
   "metadata": {},
   "outputs": [],
   "source": [
    "# f1 = cos(x)*cosh(x) - 1 --> [3/2pi, 2pi]\n",
    "def f1(x):\n",
    "    return mp.cos(x)*mp.cosh(x) - mpf(1)\n",
    "\n",
    "# f2 = 1/x - tan(x)  --> [0, pi/2]\n",
    "def f2(x):\n",
    "    return mpf(1)/x - mp.tan(x)\n",
    "\n",
    "# f3 = 2^(-x) + e^x + 2cos(x) - 6  --> [1,3]\n",
    "def f3(x):\n",
    "    return mpf(2)**(-x) + mp.exp(x) + mpf(2)*mp.cos(x) - mpf(6)"
   ]
  },
  {
   "cell_type": "markdown",
   "metadata": {},
   "source": [
    "Algorytm znajdywania miejsca zerowego przy pomocy metody bisekcji:"
   ]
  },
  {
   "cell_type": "code",
   "execution_count": 6,
   "metadata": {},
   "outputs": [],
   "source": [
    "def bisection(prec, a, b, epsilon, f):\n",
    "    n = 0\n",
    "    p=0\n",
    "    if (f(a) * f(b) > 0):\n",
    "        print(\"NO!\")\n",
    "        return None\n",
    "    with workdps(prec):  #nadaje precyzje\n",
    "        while (b - a) / mpf(2) > epsilon:\n",
    "            n += 1\n",
    "            p = a + (b - a) / mpf(2)\n",
    "            if (f(p) == 0):\n",
    "                return p, f(p), n\n",
    "            if f(a)*f(p) < mpf(0):\n",
    "                b = p\n",
    "            else:\n",
    "                a = p\n",
    "        x = p \n",
    "        y = f(x)\n",
    "        n+=1\n",
    "    return x, y, n"
   ]
  },
  {
   "cell_type": "code",
   "execution_count": 7,
   "metadata": {},
   "outputs": [],
   "source": [
    "prec = 50"
   ]
  },
  {
   "cell_type": "code",
   "execution_count": 8,
   "metadata": {},
   "outputs": [
    {
     "name": "stdout",
     "output_type": "stream",
     "text": [
      "f1(x) = cos(x) * cosh(x)\n",
      "Przedział: [3/2*pi, 1]\n",
      "Precyzja = 50 \n",
      "Błąd = 0.0000001\n",
      "Liczba kroków = 24 \n",
      "Miejsce zerowe = 4.7300408074027093574256343819015098386754370314259\n",
      "Wartość = 0.0000036051513798819264068769072176964014885285738057138\n"
     ]
    }
   ],
   "source": [
    "print(\"f1(x) = cos(x) * cosh(x)\")\n",
    "print(\"Przedział: [3/2*pi, 1]\")\n",
    "epsilon = mpf('1e-7')\n",
    "x, y, n = bisection(prec, mpf(3/2)*mp.pi, mpf(2)*mp.pi,epsilon, f1 )\n",
    "print(f\"Precyzja = {prec} \\nBłąd = {epsilon}\")\n",
    "print(f\"Liczba kroków = {n} \\nMiejsce zerowe = {x}\\nWartość = {y}\")"
   ]
  },
  {
   "cell_type": "code",
   "execution_count": 9,
   "metadata": {},
   "outputs": [
    {
     "name": "stdout",
     "output_type": "stream",
     "text": [
      "f1(x) = cos(x) * cosh(x)\n",
      "Przedział: [3/2pi, 2pi]\n",
      "Precyzja = 50 \n",
      "Błąd = 0.000000000000001\n",
      "Liczba kroków = 51 \n",
      "Miejsce zerowe = 4.7300407448627033664857053781962572406048764524545\n",
      "Wartość = -0.000000000000038019431044980716349093662857940407643280292253342\n"
     ]
    }
   ],
   "source": [
    "print(\"f1(x) = cos(x) * cosh(x)\")\n",
    "print(\"Przedział: [3/2pi, 2pi]\")\n",
    "epsilon = mpf('1e-15')\n",
    "x, y, n = bisection(prec, mpf(3)/mpf(2)*mp.pi, mpf(2*mp.pi),epsilon, f1 )\n",
    "print(f\"Precyzja = {prec} \\nBłąd = {epsilon}\")\n",
    "print(f\"Liczba kroków = {n} \\nMiejsce zerowe = {x}\\nWartość = {y}\")"
   ]
  },
  {
   "cell_type": "code",
   "execution_count": 10,
   "metadata": {},
   "outputs": [
    {
     "name": "stdout",
     "output_type": "stream",
     "text": [
      "f1(x) = cos(x) * cosh(x)\n",
      "Przedział: [3/2pi, 2pi]\n",
      "Precyzja = 50 \n",
      "Błąd = 1.0e-33\n",
      "Liczba kroków = 111 \n",
      "Miejsce zerowe = 4.7300407448627040260240481008338857188707100246388\n",
      "Wartość = 5.1821730066429533643928845668611247876423764982058e-32\n"
     ]
    }
   ],
   "source": [
    "print(\"f1(x) = cos(x) * cosh(x)\")\n",
    "print(\"Przedział: [3/2pi, 2pi]\")\n",
    "epsilon = mpf('1e-33')\n",
    "x, y, n = bisection(prec, mpf(3/2)*mp.pi, mpf(2*mp.pi),epsilon, f1)\n",
    "print(f\"Precyzja = {prec} \\nBłąd = {epsilon}\")\n",
    "print(f\"Liczba kroków = {n} \\nMiejsce zerowe = {x}\\nWartość = {y}\")"
   ]
  },
  {
   "cell_type": "code",
   "execution_count": 11,
   "metadata": {
    "scrolled": true
   },
   "outputs": [
    {
     "name": "stdout",
     "output_type": "stream",
     "text": [
      "f2(x) = 1/x - tan(x)\n",
      "Przedział: (0, pi/2) \n",
      "Precyzja = 50 \n",
      "Błąd = 0.0000001\n",
      "Liczba kroków = 24 \n",
      "Miejsce zerowe = 0.86033346194198734684097993879478724051574658440875\n",
      "Wartość = 0.00000047044910046476983910491094424554644767787868404208\n"
     ]
    }
   ],
   "source": [
    "print(\"f2(x) = 1/x - tan(x)\")\n",
    "print(\"Przedział: (0, pi/2) \")\n",
    "epsilon = mpf('1e-7')\n",
    "x, y, n = bisection(prec, mpf('1e-33'), mpf(mp.pi/2 - mpf('1e-33')),epsilon, f2 )\n",
    "print(f\"Precyzja = {prec} \\nBłąd = {epsilon}\")\n",
    "print(f\"Liczba kroków = {n} \\nMiejsce zerowe = {x}\\nWartość = {y}\")"
   ]
  },
  {
   "cell_type": "code",
   "execution_count": 12,
   "metadata": {},
   "outputs": [
    {
     "name": "stdout",
     "output_type": "stream",
     "text": [
      "f2(x) = 1/x - tan(x)\n",
      "Przedział: (0, pi/2) \n",
      "Precyzja = 50 \n",
      "Błąd = 0.000000000000001\n",
      "Liczba kroków = 51 \n",
      "Miejsce zerowe = 0.86033358901938023970665073464695182513362146341577\n",
      "Wartość = -0.0000000000000017667109907425786400715640787666336463092210515408\n"
     ]
    }
   ],
   "source": [
    "print(\"f2(x) = 1/x - tan(x)\")\n",
    "print(\"Przedział: (0, pi/2) \")\n",
    "epsilon = mpf('1e-15')\n",
    "x, y, n = bisection(prec, mpf('1e-33'), mpf(mp.pi/2 - mpf('1e-33')), epsilon, f2)\n",
    "print(f\"Precyzja = {prec} \\nBłąd = {epsilon}\")\n",
    "print(f\"Liczba kroków = {n} \\nMiejsce zerowe = {x}\\nWartość = {y}\")"
   ]
  },
  {
   "cell_type": "code",
   "execution_count": 13,
   "metadata": {},
   "outputs": [
    {
     "name": "stdout",
     "output_type": "stream",
     "text": [
      "f2(x) = 1/x - tan(x)\n",
      "Przedział: (0, pi/2)\n",
      "Precyzja = 50 \n",
      "Błąd = 1.0e-33\n",
      "Liczba kroków = 111 \n",
      "Miejsce zerowe = 0.86033358901937976248389342413766197713349065128035\n",
      "Wartość = 1.3189667598468592394804587691904925494148064175214e-33\n"
     ]
    }
   ],
   "source": [
    "print(\"f2(x) = 1/x - tan(x)\")\n",
    "print(\"Przedział: (0, pi/2)\")\n",
    "epsilon = mpf('1e-33')\n",
    "x, y, n = bisection(prec, mpf('1e-33'), mpf(mp.pi/2 -  mpf('1e-33')),epsilon, f2 )\n",
    "print(f\"Precyzja = {prec} \\nBłąd = {epsilon}\")\n",
    "print(f\"Liczba kroków = {n} \\nMiejsce zerowe = {x}\\nWartość = {y}\")"
   ]
  },
  {
   "cell_type": "code",
   "execution_count": 14,
   "metadata": {},
   "outputs": [
    {
     "name": "stdout",
     "output_type": "stream",
     "text": [
      "f3(x) = 2^(-x) + e^x + 2 * cos(x)\n",
      "Przedział: [1, 3]\n",
      "Precyzja = 50 \n",
      "Błąd = 0.0000001\n",
      "Liczba kroków = 25 \n",
      "Miejsce zerowe = 1.82938349246978759765625\n",
      "Wartość = -0.00000044896678376144840262807494022695408687113238776496\n"
     ]
    }
   ],
   "source": [
    "print(\"f3(x) = 2^(-x) + e^x + 2 * cos(x)\")\n",
    "print(\"Przedział: [1, 3]\")\n",
    "epsilon = mpf('1e-7')\n",
    "x, y, n = bisection(prec, mpf(1), mpf(3), epsilon, f3)\n",
    "print(f\"Precyzja = {prec} \\nBłąd = {epsilon}\")\n",
    "print(f\"Liczba kroków = {n} \\nMiejsce zerowe = {x}\\nWartość = {y}\")"
   ]
  },
  {
   "cell_type": "code",
   "execution_count": 15,
   "metadata": {},
   "outputs": [
    {
     "name": "stdout",
     "output_type": "stream",
     "text": [
      "f3(x) = 2^(-x) + e^x + 2 * cos(x)\n",
      "Przedział: [1, 3]\n",
      "Precyzja = 50 \n",
      "Błąd = 0.000000000000001\n",
      "Liczba kroków = 51 \n",
      "Miejsce zerowe = 1.8293836019338503007247709319926798343658447265625\n",
      "Wartość = 0.0000000000000060849381706326569909833243722699574840078562208485\n"
     ]
    }
   ],
   "source": [
    "print(\"f3(x) = 2^(-x) + e^x + 2 * cos(x)\")\n",
    "print(\"Przedział: [1, 3]\")\n",
    "epsilon = mpf('1e-15')\n",
    "x, y, n = bisection(prec, mpf(1), mpf(3), epsilon, f3)\n",
    "print(f\"Precyzja = {prec} \\nBłąd = {epsilon}\")\n",
    "print(f\"Liczba kroków = {n} \\nMiejsce zerowe = {x}\\nWartość = {y}\")"
   ]
  },
  {
   "cell_type": "code",
   "execution_count": 16,
   "metadata": {},
   "outputs": [
    {
     "name": "stdout",
     "output_type": "stream",
     "text": [
      "f3(x) = 2^(-x) + e^x + 2 * cos(x)\n",
      "Przedział: [1, 3]\n",
      "Precyzja = 50 \n",
      "Błąd = 1.0e-33\n",
      "Liczba kroków = 111 \n",
      "Miejsce zerowe = 1.829383601933848817136212946814151773825546435941\n",
      "Wartość = 4.0298525821904081358531788405793679262051622384656e-33\n"
     ]
    }
   ],
   "source": [
    "print(\"f3(x) = 2^(-x) + e^x + 2 * cos(x)\")\n",
    "print(\"Przedział: [1, 3]\")\n",
    "epsilon = mpf('1e-33')\n",
    "x, y, n = bisection(prec, mpf(1), mpf(3), epsilon, f3)\n",
    "print(f\"Precyzja = {prec} \\nBłąd = {epsilon}\")\n",
    "print(f\"Liczba kroków = {n} \\nMiejsce zerowe = {x}\\nWartość = {y}\")"
   ]
  },
  {
   "cell_type": "markdown",
   "metadata": {},
   "source": [
    "b) W tym zadaniu stworzyłam pomocniczą funkcję, która bazuje na funkcji z zad 1a, tylko zwraca inne wartości."
   ]
  },
  {
   "cell_type": "code",
   "execution_count": 17,
   "metadata": {},
   "outputs": [],
   "source": [
    "def bisection_plot(prec, a, b, epsilon, f):\n",
    "    n = 0 #kroki\n",
    "    p = 0\n",
    "    xs = []\n",
    "    if (f(a) * f(b) > 0):\n",
    "        print(\"NO\")\n",
    "        return None\n",
    "    with workdps(prec): \n",
    "        while (b - a) / mpf(2) > epsilon:\n",
    "            n += 1\n",
    "            p = a + (b - a) / mpf(2)\n",
    "            xs.append(p)\n",
    "            if (f(p) == 0):\n",
    "                return p, f(p), n\n",
    "            if f(a)*f(p) < mpf(0):\n",
    "                b = p\n",
    "            else:\n",
    "                a = p\n",
    "        xs.append(p)\n",
    "        n+=1\n",
    "    return xs, n"
   ]
  },
  {
   "cell_type": "code",
   "execution_count": 18,
   "metadata": {},
   "outputs": [],
   "source": [
    "def saturation(r, g, b, scale):\n",
    "    h, l, s = colorsys.rgb_to_hls(r, g, b)\n",
    "    return colorsys.hls_to_rgb(h, l, min(1, s * scale))\n",
    "\n",
    "def plot_func(f, prec, a, b, epsilon, f2 = False):\n",
    "    xs = np.linspace(float(a), float(b), 100)\n",
    "    ys = [f(x) for x in xs]\n",
    "    if f2:\n",
    "        plt.ylim(-20,20)\n",
    "    plt.plot(xs,ys)\n",
    "    xs, n = bisection_plot(prec, mpf(a), mpf(b), epsilon, f)\n",
    "    res = [f(x) for x in xs]\n",
    "    colors = [saturation(0., 1., 0., scale) for scale in np.linspace(0, 6, n)]\n",
    "    plt.scatter(xs, res, c=colors)"
   ]
  },
  {
   "cell_type": "code",
   "execution_count": 19,
   "metadata": {},
   "outputs": [
    {
     "name": "stdout",
     "output_type": "stream",
     "text": [
      "Funkcja 1: \n"
     ]
    },
    {
     "data": {
      "image/png": "[encoded data removed]",
      "text/plain": [
       "<Figure size 432x288 with 1 Axes>"
      ]
     },
     "metadata": {
      "needs_background": "light"
     },
     "output_type": "display_data"
    }
   ],
   "source": [
    "print(\"Funkcja 1: \")\n",
    "plot_func(f1, prec ,mpf(3/2)*mp.pi, mpf(2*mp.pi), mpf('1e-7'))"
   ]
  },
  {
   "cell_type": "code",
   "execution_count": 20,
   "metadata": {},
   "outputs": [
    {
     "name": "stdout",
     "output_type": "stream",
     "text": [
      "Funkcja 2: \n"
     ]
    },
    {
     "data": {
      "image/png": "[encoded data removed]",
      "text/plain": [
       "<Figure size 432x288 with 1 Axes>"
      ]
     },
     "metadata": {
      "needs_background": "light"
     },
     "output_type": "display_data"
    }
   ],
   "source": [
    "print(\"Funkcja 2: \")\n",
    "plot_func(f2, prec , mpf('1e-33') , np.pi/2 - mpf('1e-33'), mpf('1e-7'), True)"
   ]
  },
  {
   "cell_type": "code",
   "execution_count": 21,
   "metadata": {},
   "outputs": [
    {
     "name": "stdout",
     "output_type": "stream",
     "text": [
      "Funkcja 3: \n"
     ]
    },
    {
     "data": {
      "image/png": "[encoded data removed]",
      "text/plain": [
       "<Figure size 432x288 with 1 Axes>"
      ]
     },
     "metadata": {
      "needs_background": "light"
     },
     "output_type": "display_data"
    }
   ],
   "source": [
    "print(\"Funkcja 3: \")\n",
    "plot_func(f3, prec, mpf(1), mpf(3), mpf('1e-7'))"
   ]
  },
  {
   "cell_type": "markdown",
   "metadata": {},
   "source": [
    "Metoda bisekcji podaje nam dobre rozwiązanie. Natomiast wymaga ona częst dużo iteracji. Na wykresach widać, że pierwszy punkt znajduje się na środku przedzialu, kolejny dzieli dzieli daną połowę na 2 kolejne częścia itd..."
   ]
  },
  {
   "cell_type": "markdown",
   "metadata": {},
   "source": [
    "c) "
   ]
  },
  {
   "cell_type": "code",
   "execution_count": 22,
   "metadata": {},
   "outputs": [],
   "source": [
    "def epsilon_n(prec, a, b, f):\n",
    "    epsilon = [mpf('1e-7'), mpf('1e-15'), mpf('1e-33')]\n",
    "    n = []\n",
    "    for e in epsilon:\n",
    "        xs, i = bisection_plot(prec, a, b, e, f) # i to jest ilosc krokow\n",
    "        n.append(i)\n",
    "    epsilon = [mp.log(x) for x in epsilon]\n",
    "    plt.plot(epsilon, n)"
   ]
  },
  {
   "cell_type": "markdown",
   "metadata": {},
   "source": [
    "Aby zależność była lepiej widoczna, postanowiłam zlogarytmować wartości w tablicy epsilon do rysowania funkcji. Poniżej znajdują sie wykresy dotyczące odpowiednio funkcji 1., 2. i 3."
   ]
  },
  {
   "cell_type": "code",
   "execution_count": 23,
   "metadata": {},
   "outputs": [
    {
     "data": {
      "image/png": "[encoded data removed]",
      "text/plain": [
       "<Figure size 432x288 with 1 Axes>"
      ]
     },
     "metadata": {
      "needs_background": "light"
     },
     "output_type": "display_data"
    }
   ],
   "source": [
    "epsilon_n(prec, mpf(3/2)*mp.pi, mpf(2)*mp.pi, f1)"
   ]
  },
  {
   "cell_type": "code",
   "execution_count": 24,
   "metadata": {},
   "outputs": [
    {
     "data": {
      "image/png": "[encoded data removed]",
      "text/plain": [
       "<Figure size 432x288 with 1 Axes>"
      ]
     },
     "metadata": {
      "needs_background": "light"
     },
     "output_type": "display_data"
    }
   ],
   "source": [
    "epsilon_n(prec,  mpf('1e-33'), mpf(mp.pi/2 -  mpf('1e-33')), f2)"
   ]
  },
  {
   "cell_type": "code",
   "execution_count": 25,
   "metadata": {},
   "outputs": [
    {
     "data": {
      "image/png": "[encoded data removed]",
      "text/plain": [
       "<Figure size 432x288 with 1 Axes>"
      ]
     },
     "metadata": {
      "needs_background": "light"
     },
     "output_type": "display_data"
    }
   ],
   "source": [
    "epsilon_n(prec, mpf(1), mpf(3), f3)"
   ]
  },
  {
   "cell_type": "markdown",
   "metadata": {},
   "source": [
    "d) Funkcja check sprawdza dla każdej z trzech dokładności czy n (liczba kroków) zgadza się z danym równaniem. "
   ]
  },
  {
   "cell_type": "code",
   "execution_count": 26,
   "metadata": {},
   "outputs": [],
   "source": [
    "def check(f, prec, a, b):\n",
    "    epsilon = [mpf('1e-7'), mpf('1e-15'), mpf('1e-33')]\n",
    "    for e in epsilon:\n",
    "        print(f\"Błąd: {e}\")\n",
    "        xs, n = bisection_plot(prec, mpf(a), mpf(b), e, f)\n",
    "        print(f\"Liczba iteracji = {n}\")\n",
    "        print(mp.ceil(mp.log((b-a)/e)/mp.log(2)))\n",
    "        if (n == mp.ceil(mp.log((b-a)/e)/mp.log(2))):\n",
    "            print(\"Zgadza się \\n\")\n",
    "        else:\n",
    "            print(\"Nie zgadza się \\n\")\n"
   ]
  },
  {
   "cell_type": "code",
   "execution_count": 27,
   "metadata": {},
   "outputs": [
    {
     "name": "stdout",
     "output_type": "stream",
     "text": [
      "Funkcja 1: \n",
      "\n",
      "Błąd: 0.0000001\n",
      "Liczba iteracji = 24\n",
      "24.0\n",
      "Zgadza się \n",
      "\n",
      "Błąd: 0.000000000000001\n",
      "Liczba iteracji = 51\n",
      "51.0\n",
      "Zgadza się \n",
      "\n",
      "Błąd: 1.0e-33\n",
      "Liczba iteracji = 111\n",
      "111.0\n",
      "Zgadza się \n",
      "\n"
     ]
    }
   ],
   "source": [
    "print(\"Funkcja 1: \\n\")\n",
    "check(f1, 50, 3/2*np.pi, 2*np.pi )"
   ]
  },
  {
   "cell_type": "code",
   "execution_count": 28,
   "metadata": {},
   "outputs": [
    {
     "name": "stdout",
     "output_type": "stream",
     "text": [
      "Funkcja 2: \n",
      "\n",
      "Błąd: 0.0000001\n",
      "Liczba iteracji = 24\n",
      "24.0\n",
      "Zgadza się \n",
      "\n",
      "Błąd: 0.000000000000001\n",
      "Liczba iteracji = 51\n",
      "51.0\n",
      "Zgadza się \n",
      "\n",
      "Błąd: 1.0e-33\n",
      "Liczba iteracji = 111\n",
      "111.0\n",
      "Zgadza się \n",
      "\n"
     ]
    }
   ],
   "source": [
    "print(\"Funkcja 2: \\n\")\n",
    "check(f2, 50, 0.0001, np.pi/2-0.00001)"
   ]
  },
  {
   "cell_type": "code",
   "execution_count": 29,
   "metadata": {},
   "outputs": [
    {
     "name": "stdout",
     "output_type": "stream",
     "text": [
      "Funkcja 3: \n",
      "\n",
      "Błąd: 0.0000001\n",
      "Liczba iteracji = 25\n",
      "25.0\n",
      "Zgadza się \n",
      "\n",
      "Błąd: 0.000000000000001\n",
      "Liczba iteracji = 51\n",
      "51.0\n",
      "Zgadza się \n",
      "\n",
      "Błąd: 1.0e-33\n",
      "Liczba iteracji = 111\n",
      "111.0\n",
      "Zgadza się \n",
      "\n"
     ]
    }
   ],
   "source": [
    "print(\"Funkcja 3: \\n\")\n",
    "check(f3, 50, 1, 3)"
   ]
  },
  {
   "cell_type": "markdown",
   "metadata": {},
   "source": [
    "Jak widać dla każdej funkcji i jej przedziału, dla każdej dokładności n spełnia podane równanie. Związane to jest z faktem, że za każdą iteracją dzielimy przedział na dwie części. Dzięki temu prawdziwe jest równanie (b-a)/2**(n+1) < E (gdzie E to epsilon, błąd). Po przekształceniach otrzymujemy podstać podaną w zadaniu."
   ]
  },
  {
   "cell_type": "markdown",
   "metadata": {},
   "source": [
    "# Zad 2 "
   ]
  },
  {
   "cell_type": "markdown",
   "metadata": {},
   "source": [
    "Poniżej znajdują się pochodne potrzebne do metody Newtona."
   ]
  },
  {
   "cell_type": "code",
   "execution_count": 30,
   "metadata": {},
   "outputs": [],
   "source": [
    "def df1(x):\n",
    "    return mp.cos(x) * mp.sinh(x) - mp.sin(x) * mp.cosh(x)\n",
    "def df2(x):\n",
    "    return mpf(1)/x**2 - mp.sec(x)**2\n",
    "def df3(x):\n",
    "    return mp.exp(x) - mpf(2)**(-x) * mp.log(mpf(2)) - mpf(2) * mp.sin(x)"
   ]
  },
  {
   "cell_type": "markdown",
   "metadata": {},
   "source": [
    "Zaimplementowana metoda Newtona zwraca obliczone miejsce zerowe, wartość funkcji w tym punkcie a także liczbę iteracji, która musiała zostać przeprowadzona, aby osiągnąć ten wynik. Oprócz tego funkcja uzupełnia tablicę xs kolejnymi obliczonymi potencjalnymi miejscami zerowymi."
   ]
  },
  {
   "cell_type": "code",
   "execution_count": 31,
   "metadata": {},
   "outputs": [],
   "source": [
    "def Newton(prec, f, df, epsilon, nmax, x, xs = []):\n",
    "    for i in range(nmax):\n",
    "        xs.append(x)\n",
    "        dx = df(x)\n",
    "        if dx == 0:\n",
    "            return None\n",
    "        x1 = x -  f(x)/dx\n",
    "        if abs(x-x1) < epsilon:\n",
    "            return x1, f(x1), i+1 \n",
    "        x = x1\n",
    "    print(\"Za mało iteracji\")\n",
    "    return None"
   ]
  },
  {
   "cell_type": "markdown",
   "metadata": {},
   "source": [
    "W metodzie Netwona nie jest koneiczne podawanie przedziału, jednak należy podać punkt początkowy. Postanowiłam w każdym przypadku uzywać punktu w środku przedziału i zobaczyć, jakie wyniki dostanę dla poszczególnych funkcji."
   ]
  },
  {
   "cell_type": "code",
   "execution_count": 32,
   "metadata": {},
   "outputs": [
    {
     "name": "stdout",
     "output_type": "stream",
     "text": [
      "f1(x) = cos(x) * cosh(x)\n",
      "Przedział: [3/2pi, 2pi]\n",
      "Precyzja = 50 \n",
      "Błąd = 0.0000001\n",
      "Liczba kroków = 6 \n",
      "Miejsce zerowe = 4.730040744862704026026154791516518156780090512043\n",
      "Wartość = 1.2144128089784887546336219116832533975395605698837e-19\n"
     ]
    }
   ],
   "source": [
    "print(\"f1(x) = cos(x) * cosh(x)\")\n",
    "print(\"Przedział: [3/2pi, 2pi]\")\n",
    "epsilon = mpf('1e-7')\n",
    "x, y, n = Newton(prec, f1, df1, epsilon, 10, mpf(7/4)*mp.pi)\n",
    "print(f\"Precyzja = {prec} \\nBłąd = {epsilon}\")\n",
    "print(f\"Liczba kroków = {n} \\nMiejsce zerowe = {x}\\nWartość = {y}\")"
   ]
  },
  {
   "cell_type": "code",
   "execution_count": 33,
   "metadata": {},
   "outputs": [
    {
     "name": "stdout",
     "output_type": "stream",
     "text": [
      "f1(x) = cos(x) * cosh(x)\n",
      "Przedział: [3/2pi, 2pi]\n",
      "Precyzja = 50 \n",
      "Błąd = 0.000000000000001\n",
      "Liczba kroków = 7 \n",
      "Miejsce zerowe = 4.7300407448627040260240481008338848198983461611948\n",
      "Wartość = 2.5136259510424149716690000962061587024731057871961e-40\n"
     ]
    }
   ],
   "source": [
    "print(\"f1(x) = cos(x) * cosh(x)\")\n",
    "print(\"Przedział: [3/2pi, 2pi]\")\n",
    "epsilon = mpf('1e-15')\n",
    "x, y, n = Newton(prec, f1, df1, epsilon, 10, mpf(7/4)*mp.pi)\n",
    "print(f\"Precyzja = {prec} \\nBłąd = {epsilon}\")\n",
    "print(f\"Liczba kroków = {n} \\nMiejsce zerowe = {x}\\nWartość = {y}\")"
   ]
  },
  {
   "cell_type": "code",
   "execution_count": 34,
   "metadata": {},
   "outputs": [
    {
     "name": "stdout",
     "output_type": "stream",
     "text": [
      "f1(x) = cos(x) * cosh(x)\n",
      "Przedział: [3/2pi, 2pi]\n",
      "Precyzja = 50 \n",
      "Błąd = 1.0e-33\n",
      "Liczba kroków = 8 \n",
      "Miejsce zerowe = 4.7300407448627040260240481008338848198983418007068\n",
      "Wartość = 2.138211768073756516912429173721185503052157504084e-50\n"
     ]
    }
   ],
   "source": [
    "print(\"f1(x) = cos(x) * cosh(x)\")\n",
    "print(\"Przedział: [3/2pi, 2pi]\")\n",
    "epsilon = mpf('1e-33')\n",
    "x, y, n = Newton(prec, f1, df1, epsilon, 10, mpf(7/4)*mp.pi)\n",
    "print(f\"Precyzja = {prec} \\nBłąd = {epsilon}\")\n",
    "print(f\"Liczba kroków = {n} \\nMiejsce zerowe = {x}\\nWartość = {y}\")"
   ]
  },
  {
   "cell_type": "code",
   "execution_count": 35,
   "metadata": {},
   "outputs": [
    {
     "name": "stdout",
     "output_type": "stream",
     "text": [
      "f2(x) = 1/x - tan(x)\n",
      "Przedział: (0, pi/2)\n",
      "Precyzja = 50 \n",
      "Błąd = 0.0000001\n",
      "Liczba kroków = 20 \n",
      "Miejsce zerowe = 3.4256184515591550630065345035799017919186929645403\n",
      "Wartość = 0.0000000092728357607441645866297609634877731292820503212342\n"
     ]
    }
   ],
   "source": [
    "print(\"f2(x) = 1/x - tan(x)\")\n",
    "print(\"Przedział: (0, pi/2)\")\n",
    "epsilon = mpf('1e-7')\n",
    "x, y, n = Newton(prec, f2, df2, epsilon, 100, mp.pi/mpf(4))\n",
    "print(f\"Precyzja = {prec} \\nBłąd = {epsilon}\")\n",
    "print(f\"Liczba kroków = {n} \\nMiejsce zerowe = {x}\\nWartość = {y}\")"
   ]
  },
  {
   "cell_type": "code",
   "execution_count": 36,
   "metadata": {},
   "outputs": [
    {
     "name": "stdout",
     "output_type": "stream",
     "text": [
      "f2(x) = 1/x - tan(x)\n",
      "Przedział: (0, pi/2)\n",
      "Precyzja = 50 \n",
      "Błąd = 0.000000000000001\n",
      "Liczba kroków = 31 \n",
      "Miejsce zerowe = 3.4256184594817281743991935827825457126898376855591\n",
      "Wartość = -3.2680202937832476305200299252762687848781779563308e-17\n"
     ]
    }
   ],
   "source": [
    "print(\"f2(x) = 1/x - tan(x)\")\n",
    "print(\"Przedział: (0, pi/2)\")\n",
    "epsilon = mpf('1e-15')\n",
    "x, y, n = Newton(prec, f2, df2, epsilon, 100, mp.pi/mpf(4))\n",
    "print(f\"Precyzja = {prec} \\nBłąd = {epsilon}\")\n",
    "print(f\"Liczba kroków = {n} \\nMiejsce zerowe = {x}\\nWartość = {y}\")"
   ]
  },
  {
   "cell_type": "code",
   "execution_count": 37,
   "metadata": {},
   "outputs": [
    {
     "name": "stdout",
     "output_type": "stream",
     "text": [
      "f2(x) = 1/x - tan(x)\n",
      "Przedział: (0, pi/2)\n",
      "Precyzja = 50 \n",
      "Błąd = 1.0e-33\n",
      "Liczba kroków = 54 \n",
      "Miejsce zerowe = 3.4256184594817281464777138621854561185899722302837\n",
      "Wartość = 6.9180085572798070218355823150394214481986910669839e-35\n"
     ]
    }
   ],
   "source": [
    "print(\"f2(x) = 1/x - tan(x)\")\n",
    "print(\"Przedział: (0, pi/2)\")\n",
    "epsilon = mpf('1e-33')\n",
    "x, y, n = Newton(prec, f2, df2, epsilon, 100, mp.pi/mpf(4))\n",
    "print(f\"Precyzja = {prec} \\nBłąd = {epsilon}\")\n",
    "print(f\"Liczba kroków = {n} \\nMiejsce zerowe = {x}\\nWartość = {y}\")"
   ]
  },
  {
   "cell_type": "code",
   "execution_count": 38,
   "metadata": {},
   "outputs": [
    {
     "name": "stdout",
     "output_type": "stream",
     "text": [
      "f3(x) = 2^(-x) + e^x + 2 * cos(x)\n",
      "Przedział: [1, 3]\n",
      "Precyzja = 50 \n",
      "Błąd = 0.0000001\n",
      "Liczba kroków = 5 \n",
      "Miejsce zerowe = 1.8293836019338489493895223852479367262381445527069\n",
      "Wartość = 5.4243692192350865466701440018834778248012255171745e-16\n"
     ]
    }
   ],
   "source": [
    "print(\"f3(x) = 2^(-x) + e^x + 2 * cos(x)\")\n",
    "print(\"Przedział: [1, 3]\")\n",
    "epsilon = mpf('1e-7')\n",
    "x, y, n = Newton(prec, f3, df3, epsilon, 10, mpf(1.5))\n",
    "print(f\"Precyzja = {prec} \\nBłąd = {epsilon}\")\n",
    "print(f\"Liczba kroków = {n} \\nMiejsce zerowe = {x}\\nWartość = {y}\")"
   ]
  },
  {
   "cell_type": "code",
   "execution_count": 39,
   "metadata": {},
   "outputs": [
    {
     "name": "stdout",
     "output_type": "stream",
     "text": [
      "f3(x) = 2^(-x) + e^x + 2 * cos(x)\n",
      "Przedział: [1, 3]\n",
      "Precyzja = 50 \n",
      "Błąd = 0.000000000000001\n",
      "Liczba kroków = 6 \n",
      "Miejsce zerowe = 1.8293836019338488171362129468141654541456256926041\n",
      "Wartość = 6.0139682621451718868374552245526124116105253454539e-32\n"
     ]
    }
   ],
   "source": [
    "print(\"f3(x) = 2^(-x) + e^x + 2 * cos(x)\")\n",
    "print(\"Przedział: [1, 3]\")\n",
    "epsilon = mpf('1e-15')\n",
    "x, y, n = Newton(prec, f3, df3, epsilon, 10, mpf(1.5))\n",
    "print(f\"Precyzja = {prec} \\nBłąd = {epsilon}\")\n",
    "print(f\"Liczba kroków = {n} \\nMiejsce zerowe = {x}\\nWartość = {y}\")"
   ]
  },
  {
   "cell_type": "code",
   "execution_count": 40,
   "metadata": {},
   "outputs": [
    {
     "name": "stdout",
     "output_type": "stream",
     "text": [
      "f3(x) = 2^(-x) + e^x + 2 * cos(x)\n",
      "Przedział: [1, 3]\n",
      "Precyzja = 50 \n",
      "Błąd = 1.0e-33\n",
      "Liczba kroków = 8 \n",
      "Miejsce zerowe = 1.8293836019338488171362129468141507912940870105911\n",
      "Wartość = 0.0\n"
     ]
    }
   ],
   "source": [
    "print(\"f3(x) = 2^(-x) + e^x + 2 * cos(x)\")\n",
    "print(\"Przedział: [1, 3]\")\n",
    "epsilon = mpf('1e-33')\n",
    "x, y, n = Newton(prec, f3, df3, epsilon, 10, mpf(1.5))\n",
    "print(f\"Precyzja = {prec} \\nBłąd = {epsilon}\")\n",
    "print(f\"Liczba kroków = {n} \\nMiejsce zerowe = {x}\\nWartość = {y}\")"
   ]
  },
  {
   "cell_type": "markdown",
   "metadata": {},
   "source": [
    "W przypadku 1. i 3. funkcji wyniki są zadowalające - miejsca zerowe są takie same jak przy metodzie bisekcji przy mniejszej liczbie kroków nawet przy najmniejszym epsilonie. Natomiast przy funkcji 2. miejsce zerowe jest obliczone co prawda dobrze, jednak punkt ten nie należy do podanego przedziału. Podjęłam próbę wyznaczenia odpowiedniego punktu początkowego, aby uzyskać miejsce zerowe z zadania 1., jednak nie udało mi się to. "
   ]
  },
  {
   "cell_type": "code",
   "execution_count": 41,
   "metadata": {},
   "outputs": [
    {
     "name": "stdout",
     "output_type": "stream",
     "text": [
      "f2(x) = 1/x - tan(x)\n",
      "Przedział: (0, pi/2)\n",
      "Precyzja = 50 \n",
      "Błąd = 0.000000000000001\n",
      "Liczba kroków = 20 \n",
      "Miejsce zerowe = -3.4256184594817280079020673269576074553001938605907\n",
      "Wartość = -1.6219341869879035827087688063533166353781965668864e-16\n"
     ]
    }
   ],
   "source": [
    "print(\"f2(x) = 1/x - tan(x)\")\n",
    "print(\"Przedział: (0, pi/2)\")\n",
    "epsilon = mpf('1e-15')\n",
    "x, y, n = Newton(prec, f2, df2, epsilon, 100, -mp.pi)\n",
    "print(f\"Precyzja = {prec} \\nBłąd = {epsilon}\")\n",
    "print(f\"Liczba kroków = {n} \\nMiejsce zerowe = {x}\\nWartość = {y}\")"
   ]
  },
  {
   "cell_type": "markdown",
   "metadata": {},
   "source": [
    "b)"
   ]
  },
  {
   "cell_type": "code",
   "execution_count": 45,
   "metadata": {},
   "outputs": [],
   "source": [
    "def plot_Newton(f, df, prec, a, b, epsilon, x, f2 = False):\n",
    "    xs = np.linspace(float(a), float(b), 100)\n",
    "    ys = [f(x) for x in xs]\n",
    "    if f2:\n",
    "        plt.ylim(-20,20)\n",
    "    plt.plot(xs,ys)\n",
    "    xs = []\n",
    "    _, _, n = Newton(prec, f, df, epsilon, 100, x, xs)\n",
    "    res = [f(x) for x in xs]\n",
    "    colors = [saturation(0., 1., 0., scale) for scale in np.linspace(0, 6, n)]\n",
    "    plt.scatter(xs, res, c=colors)"
   ]
  },
  {
   "cell_type": "code",
   "execution_count": 46,
   "metadata": {},
   "outputs": [
    {
     "name": "stdout",
     "output_type": "stream",
     "text": [
      "Funkcja 1:\n",
      "Liczba kroków 7\n"
     ]
    },
    {
     "data": {
      "image/png": "[encoded data removed]",
      "text/plain": [
       "<Figure size 432x288 with 1 Axes>"
      ]
     },
     "metadata": {
      "needs_background": "light"
     },
     "output_type": "display_data"
    }
   ],
   "source": [
    "print(\"Funkcja 1:\")\n",
    "plot_Newton(f1, df1, prec, mpf(3/2)*mp.pi, mpf(2)*mp.pi, mpf('1e-7'), mpf(2)*mp.pi)\n",
    "_, _, n =  Newton(prec, f1, df1, mpf('1e-7'), 100, mpf(2)*mp.pi)\n",
    "print(f\"Liczba kroków {n}\")"
   ]
  },
  {
   "cell_type": "markdown",
   "metadata": {},
   "source": [
    "W tym przypadku za punkt początkowy wybrałam koniec przedziału (2pi). Miejsce zerowe również w tym przypadku zostało znalezione stosunkowo szybko - w 7. krokach."
   ]
  },
  {
   "cell_type": "code",
   "execution_count": 48,
   "metadata": {},
   "outputs": [
    {
     "data": {
      "image/png": "[encoded data removed]",
      "text/plain": [
       "<Figure size 432x288 with 1 Axes>"
      ]
     },
     "metadata": {
      "needs_background": "light"
     },
     "output_type": "display_data"
    }
   ],
   "source": [
    "plot_Newton(f2, df2, prec, mpf('1e-7'), mpf(mp.pi/2 -  mpf('1e-7')), mpf('1e-7'), mpf(mp.pi/4), True)"
   ]
  },
  {
   "cell_type": "markdown",
   "metadata": {},
   "source": [
    "Trzymając się koncepcji wybierania punktu początkowego jako środek przedziału, tak samo zrobiłam w tym zadaniu. Widać na wykresie, jak przebiega proces odnajdywania szukanego x. Punkty po prawej stronie wykresu również należą do wykresu funkcji (funkcja 2. jest funkcją okresową), jednak nie jest ona narysowana, ponieważ rysowałam funkcje tylko w wyznaczonym przedziale."
   ]
  },
  {
   "cell_type": "code",
   "execution_count": 171,
   "metadata": {},
   "outputs": [
    {
     "data": {
      "image/png": "[encoded data removed]",
      "text/plain": [
       "<Figure size 432x288 with 1 Axes>"
      ]
     },
     "metadata": {
      "needs_background": "light"
     },
     "output_type": "display_data"
    }
   ],
   "source": [
    "plot_Newton(f3, df3, prec, mpf(1), mpf(3), mpf('1e-7'), mpf(1.5))"
   ]
  },
  {
   "cell_type": "markdown",
   "metadata": {},
   "source": [
    "Po wykresach 1. i 3. widać, że metoda Netwona jest znacznie szybciej zbieżna niż metoda bisekcji."
   ]
  },
  {
   "cell_type": "markdown",
   "metadata": {},
   "source": [
    "c) "
   ]
  },
  {
   "cell_type": "code",
   "execution_count": 89,
   "metadata": {},
   "outputs": [],
   "source": [
    "def epsilon_n_Newton(prec, f, df, x):\n",
    "    epsilon = [mpf('1e-7'), mpf('1e-15'), mpf('1e-33')]\n",
    "    n = []\n",
    "    for e in epsilon:\n",
    "        _, _, i = Newton(prec, f, df, e, 200, x)\n",
    "        n.append(i)\n",
    "    epsilon = [mp.log(x) for x in epsilon]\n",
    "    plt.plot(epsilon, n)"
   ]
  },
  {
   "cell_type": "code",
   "execution_count": 91,
   "metadata": {},
   "outputs": [
    {
     "data": {
      "image/png": "[encoded data removed]",
      "text/plain": [
       "<Figure size 432x288 with 1 Axes>"
      ]
     },
     "metadata": {
      "needs_background": "light"
     },
     "output_type": "display_data"
    }
   ],
   "source": [
    "epsilon_n_Newton(prec, f1, df1, mpf(2)*mp.pi)"
   ]
  },
  {
   "cell_type": "code",
   "execution_count": 177,
   "metadata": {},
   "outputs": [
    {
     "data": {
      "image/png": "[encoded data removed]",
      "text/plain": [
       "<Figure size 432x288 with 1 Axes>"
      ]
     },
     "metadata": {
      "needs_background": "light"
     },
     "output_type": "display_data"
    }
   ],
   "source": [
    "epsilon_n_Newton(prec, f2, df2, mpf(mp.pi/4) )"
   ]
  },
  {
   "cell_type": "code",
   "execution_count": 98,
   "metadata": {},
   "outputs": [
    {
     "data": {
      "image/png": "[encoded data removed]",
      "text/plain": [
       "<Figure size 432x288 with 1 Axes>"
      ]
     },
     "metadata": {
      "needs_background": "light"
     },
     "output_type": "display_data"
    }
   ],
   "source": [
    "epsilon_n_Newton(prec, f3, df3, mpf(1))"
   ]
  },
  {
   "cell_type": "markdown",
   "metadata": {},
   "source": [
    "d) Zależność podana w zadaniu 1d nie zachodzi dla metody Newtona. Jest to powiązane z faktem, że liczba iteracji zależna jest od wyboru punktu początkowego. Może to być uznawane jako wada - kiedy punkt startowy jest zbyt daleko od szukanego pierwiastka równania, zbieżność nie musi zachodzić."
   ]
  },
  {
   "cell_type": "code",
   "execution_count": 199,
   "metadata": {},
   "outputs": [],
   "source": [
    "def check_Newton(f, df, prec, nmax, x, a, b):\n",
    "    epsilon = [mpf('1e-7'), mpf('1e-15'), mpf('1e-33')]\n",
    "    for e in epsilon:\n",
    "        print(f\"Błąd: {e}\")\n",
    "        _, _, n = Newton(prec, f, df, e, nmax, x)\n",
    "        print(f\"Liczba iteracji = {n}\")\n",
    "        print(mp.ceil(mp.log((b-a)/e)/mp.log(2)))\n",
    "        if (n == mp.ceil(mp.log((b-a)/e)/mp.log(2))):\n",
    "            print(\"Zgadza się :)\\n\")\n",
    "        else:\n",
    "            print(\"Nie zgadza się \\n\")"
   ]
  },
  {
   "cell_type": "code",
   "execution_count": 200,
   "metadata": {},
   "outputs": [
    {
     "name": "stdout",
     "output_type": "stream",
     "text": [
      "Funkcja 1: \n",
      "\n",
      "Błąd: 0.0000001\n",
      "Liczba iteracji = 6\n",
      "24.0\n",
      "Nie zgadza się \n",
      "\n",
      "Błąd: 0.000000000000001\n",
      "Liczba iteracji = 7\n",
      "51.0\n",
      "Nie zgadza się \n",
      "\n",
      "Błąd: 1.0e-33\n",
      "Liczba iteracji = 8\n",
      "111.0\n",
      "Nie zgadza się \n",
      "\n"
     ]
    }
   ],
   "source": [
    "print(\"Funkcja 1: \\n\")\n",
    "check_Newton(f1, df1, prec, 10, mpf(7/4)*mp.pi, mpf(3/2)*mp.pi, mpf(2)*mp.pi )"
   ]
  },
  {
   "cell_type": "code",
   "execution_count": 202,
   "metadata": {},
   "outputs": [
    {
     "name": "stdout",
     "output_type": "stream",
     "text": [
      "Funkcja 2:\n",
      "Błąd: 0.0000001\n",
      "Liczba iteracji = 20\n",
      "24.0\n",
      "Nie zgadza się \n",
      "\n",
      "Błąd: 0.000000000000001\n",
      "Liczba iteracji = 31\n",
      "51.0\n",
      "Nie zgadza się \n",
      "\n",
      "Błąd: 1.0e-33\n",
      "Liczba iteracji = 54\n",
      "111.0\n",
      "Nie zgadza się \n",
      "\n"
     ]
    }
   ],
   "source": [
    "print(\"Funkcja 2:\")\n",
    "check_Newton(f2, df2, prec, 100,  mp.pi/mpf(4), mpf('1e-33'), mpf(mp.pi/2 -  mpf('1e-33')),)"
   ]
  },
  {
   "cell_type": "code",
   "execution_count": 204,
   "metadata": {},
   "outputs": [
    {
     "name": "stdout",
     "output_type": "stream",
     "text": [
      "Funkcja 3:\n",
      "Błąd: 0.0000001\n",
      "Liczba iteracji = 5\n",
      "25.0\n",
      "Nie zgadza się \n",
      "\n",
      "Błąd: 0.000000000000001\n",
      "Liczba iteracji = 6\n",
      "51.0\n",
      "Nie zgadza się \n",
      "\n",
      "Błąd: 1.0e-33\n",
      "Liczba iteracji = 8\n",
      "111.0\n",
      "Nie zgadza się \n",
      "\n"
     ]
    }
   ],
   "source": [
    "print(\"Funkcja 3:\")\n",
    "check_Newton(f3, df3, prec, 10, mpf(1.5), mpf(1), mpf(3))"
   ]
  }
 ],
 "metadata": {
  "kernelspec": {
   "display_name": "Python 3",
   "language": "python",
   "name": "python3"
  },
  "language_info": {
   "codemirror_mode": {
    "name": "ipython",
    "version": 3
   },
   "file_extension": ".py",
   "mimetype": "text/x-python",
   "name": "python",
   "nbconvert_exporter": "python",
   "pygments_lexer": "ipython3",
   "version": "3.8.5"
  }
 },
 "nbformat": 4,
 "nbformat_minor": 4
}
