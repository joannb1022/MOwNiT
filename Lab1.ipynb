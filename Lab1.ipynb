{
 "cells": [
  {
   "cell_type": "code",
   "execution_count": 39,
   "metadata": {},
   "outputs": [],
   "source": [
    "from numpy import float32, float64\n",
    "import time\n",
    "import matplotlib.pyplot as plt\n",
    "import numpy as np"
   ]
  },
  {
   "cell_type": "markdown",
   "metadata": {},
   "source": [
    "# Zad 1 "
   ]
  },
  {
   "cell_type": "code",
   "execution_count": 40,
   "metadata": {},
   "outputs": [
    {
     "name": "stdout",
     "output_type": "stream",
     "text": [
      "5030840.5\n"
     ]
    }
   ],
   "source": [
    "v = float32(0.53125)\n",
    "tab = [v] * 10**7\n",
    "\n",
    "def sumaa(tab):\n",
    "    suma=float32(0.0)\n",
    "    for i in range(len(tab)):\n",
    "        suma += tab[i]\n",
    "    return suma\n",
    "\n",
    "x = sumaa(tab)\n",
    "print(x)"
   ]
  },
  {
   "cell_type": "code",
   "execution_count": 41,
   "metadata": {},
   "outputs": [
    {
     "name": "stdout",
     "output_type": "stream",
     "text": [
      "281659.5\n",
      "0.05301825882352941\n"
     ]
    }
   ],
   "source": [
    "y = 5312500\n",
    "\n",
    "bezwzgl = abs(y - x)\n",
    "print(bezwzgl)\n",
    "wzgl = bezwzgl/y\n",
    "print(wzgl)"
   ]
  },
  {
   "cell_type": "code",
   "execution_count": 42,
   "metadata": {},
   "outputs": [
    {
     "data": {
      "image/png": "[encoded data removed]",
      "text/plain": [
       "<Figure size 432x288 with 1 Axes>"
      ]
     },
     "metadata": {
      "needs_background": "light"
     },
     "output_type": "display_data"
    }
   ],
   "source": [
    "def get_error(tab):\n",
    "    suma = float32(0)\n",
    "    tab_error = []\n",
    "    tab_suma = []\n",
    "    for i in range(len(tab)):\n",
    "        suma = suma + tab [i]\n",
    "        if i % 25000 == 0 and i!=0:\n",
    "            suma2 = i*v\n",
    "            blad = abs((suma2-suma)/suma)\n",
    "            tab_error.append(blad)\n",
    "            tab_suma.append(suma)\n",
    "    plt.plot(tab_suma, tab_error)\n",
    "    plt.show\n",
    "\n",
    "    \n",
    "v = float32(0.53125)\n",
    "tab = [v] * 10**7\n",
    "get_error(tab)"
   ]
  },
  {
   "cell_type": "markdown",
   "metadata": {},
   "source": [
    "Interpretacja wykresu - ze wzrostem liczby składników, suma jest coraz bardziej niedokładna. Zależność ta nie jest liniowa - przypomina wykres pierwiastka lub logarytmu. "
   ]
  },
  {
   "cell_type": "code",
   "execution_count": 43,
   "metadata": {},
   "outputs": [
    {
     "name": "stdout",
     "output_type": "stream",
     "text": [
      "5312500.0\n"
     ]
    }
   ],
   "source": [
    "def suma_rek(tab):\n",
    "    if len(tab) == 1:\n",
    "        return tab[0]\n",
    "    return suma_rek(tab[:len(tab)//2]) + suma_rek(tab[len(tab)//2:])\n",
    "print(suma_rek(tab))"
   ]
  },
  {
   "cell_type": "markdown",
   "metadata": {},
   "source": [
    "Dodaje liczby podobnie duże, przez co unikamy błędu zaokrągleń przy dodawaniu dużej do małej."
   ]
  },
  {
   "cell_type": "code",
   "execution_count": 44,
   "metadata": {},
   "outputs": [
    {
     "name": "stdout",
     "output_type": "stream",
     "text": [
      "sumowanie iteracyjne\n",
      "5030840.5\n",
      " 1.9054436683654785 seconds\n",
      "sumowanie rekurencyjne\n",
      "5312500.0\n",
      " 9.452586650848389 seconds\n"
     ]
    }
   ],
   "source": [
    "print(\"sumowanie iteracyjne\")\n",
    "start_time = time.time()\n",
    "x = sumaa(tab)\n",
    "print(x)\n",
    "print(\" %s seconds\" % (time.time() - start_time))\n",
    "\n",
    "print(\"sumowanie rekurencyjne\")\n",
    "start_time = time.time()\n",
    "rx = suma_rek(tab)\n",
    "print(rx)\n",
    "print(\" %s seconds\" % (time.time() - start_time))\n"
   ]
  },
  {
   "cell_type": "markdown",
   "metadata": {},
   "source": [
    "1.7\n",
    "Przedstaw przykładowe dane wejściowe, dla których algorytm sumowania rekurencyjnego zwraca niezerowy błąd."
   ]
  },
  {
   "cell_type": "code",
   "execution_count": 45,
   "metadata": {},
   "outputs": [
    {
     "name": "stdout",
     "output_type": "stream",
     "text": [
      "5555.4307\n",
      "0.0006640624997089617\n",
      "1.1953395141491506e-07\n"
     ]
    }
   ],
   "source": [
    "v1 = float32(0.555543)\n",
    "tab1 = [v1] * 10**4\n",
    "sumaa = suma_rek(tab1)\n",
    "print(sumaa)\n",
    "\n",
    "y1 = 5555.43\n",
    "bezwzgl = abs(y1 - sumaa)\n",
    "print(bezwzgl)\n",
    "wzgl = bezwzgl/y1\n",
    "print(wzgl)"
   ]
  },
  {
   "cell_type": "markdown",
   "metadata": {},
   "source": [
    "# Zadanie 2"
   ]
  },
  {
   "cell_type": "code",
   "execution_count": 46,
   "metadata": {},
   "outputs": [],
   "source": [
    "def Kahan(tab):\n",
    "    suma = float32(0.0)\n",
    "    err = float32(0.0)\n",
    "    y = float32(0.0)\n",
    "    temp = float32(0.0)\n",
    "    for i in range (len(tab)):\n",
    "        y = tab[i] - err\n",
    "        temp = suma + y\n",
    "        err = (temp - suma) - y\n",
    "        suma = temp\n",
    "    return suma"
   ]
  },
  {
   "cell_type": "code",
   "execution_count": 47,
   "metadata": {},
   "outputs": [
    {
     "name": "stdout",
     "output_type": "stream",
     "text": [
      "0.0\n",
      "0.0\n"
     ]
    }
   ],
   "source": [
    "kx = Kahan(tab)\n",
    "bezwzgl = abs(y-kx)\n",
    "print(bezwzgl)\n",
    "wzgl = bezwzgl/y\n",
    "print(wzgl)"
   ]
  },
  {
   "cell_type": "markdown",
   "metadata": {},
   "source": [
    "Zmienna err przechowuje błąd wynikający z niemożności trzymania w zmiennej suma\n",
    "dużych liczb z dużą precyzją (są zaokrąglane). Mówi nam, jaki błąd powinniśmy\n",
    "uwzględnić (y = tab[i] - err) z kolejną iteracją."
   ]
  },
  {
   "cell_type": "code",
   "execution_count": 48,
   "metadata": {},
   "outputs": [
    {
     "name": "stdout",
     "output_type": "stream",
     "text": [
      "5312500.0\n",
      " 6.544358968734741 seconds\n",
      "5312500.0\n",
      " 9.503885984420776 seconds\n"
     ]
    }
   ],
   "source": [
    "start_time = time.time()\n",
    "kx = Kahan(tab)\n",
    "print(kx)\n",
    "print(\" %s seconds\" % (time.time() - start_time))\n",
    "\n",
    "start_time = time.time()\n",
    "rx = suma_rek(tab)\n",
    "print(rx)\n",
    "print(\" %s seconds\" % (time.time() - start_time))\n"
   ]
  },
  {
   "cell_type": "markdown",
   "metadata": {},
   "source": [
    "Porównanie algorytmu Kahana i rekurencyjnego - Kahan jest szybszy."
   ]
  },
  {
   "cell_type": "markdown",
   "metadata": {},
   "source": [
    "# Zadanie 3 "
   ]
  },
  {
   "cell_type": "code",
   "execution_count": 49,
   "metadata": {},
   "outputs": [],
   "source": [
    "def Riemann32p(s,n):\n",
    "    suma = float32(0.0)\n",
    "    for i in range(1,n+1):\n",
    "        suma += 1/(i**s)\n",
    "    print(suma)\n",
    "\n",
    "def Riemann32t(s,n):\n",
    "    suma = 0\n",
    "    for i in range(n,0,-1):\n",
    "        suma += 1/(i**s)\n",
    "    print(suma)\n",
    "\n",
    "def Dirichlet32p(s,n):\n",
    "    suma = float32(0.0)\n",
    "    for i in range(1, n+1):\n",
    "        suma+= (-1)**(i-1)*1/(i**s)\n",
    "    print(suma)\n",
    "\n",
    "def Dirichlet32t(s,n):\n",
    "    suma = float64(0.0)\n",
    "    for i in range(n, 0,-1):\n",
    "        suma+= (-1)**(i-1)/(i**s)\n",
    "    print(suma)\n",
    "    \n",
    "def Riemann64p(s,n):\n",
    "    suma = float64(0.0)\n",
    "    for i in range(1,n+1):\n",
    "        suma += 1/(i**s)\n",
    "    print(suma)\n",
    "\n",
    "def Riemann64t(s,n):\n",
    "    suma = float64(0.0)\n",
    "    for i in range(n,0,-1):\n",
    "        suma += 1/(i**s)\n",
    "    print(suma)\n",
    "\n",
    "def Dirichlet64p(s,n):\n",
    "    suma = float64(0.0)\n",
    "    for i in range(1, n+1):\n",
    "        suma+= (-1)**(i-1)*1/(i**s)\n",
    "    print(suma)\n",
    "\n",
    "def Dirichlet64t(s,n):\n",
    "    suma = float64(0.0)\n",
    "    for i in range(n, 0,-1):\n",
    "        suma+= (-1)**(i-1)/(i**s)\n",
    "    print(suma)"
   ]
  },
  {
   "cell_type": "code",
   "execution_count": 50,
   "metadata": {},
   "outputs": [
    {
     "name": "stdout",
     "output_type": "stream",
     "text": [
      "1.625132733621529\n",
      "1.6251327336215293\n",
      "1.625132733621529\n",
      "1.6251327336215293\n",
      " \n",
      "1.10940880817909\n",
      "1.1094088081790894\n",
      "1.1094087973421474\n",
      "1.1094087973421476\n",
      " \n",
      "1.0369277549886775\n",
      "1.036927754988676\n",
      "1.0369277549886775\n",
      "1.036927754988676\n",
      "\n",
      "1.0072276674732752\n",
      "1.0072276674732774\n",
      "1.0072276664807145\n",
      "1.0072276664807172\n",
      " \n",
      "1.0009945751278182\n",
      "1.000994575127818\n",
      "1.0009945751278182\n",
      "1.000994575127818\n"
     ]
    }
   ],
   "source": [
    "Riemann32p(float32(2),50)\n",
    "Riemann32t(float32(2),50)\n",
    "Riemann64p(float64(2),50)\n",
    "Riemann64t(float64(2),50)\n",
    "print(\" \")\n",
    "Riemann32p(float32(3.6667),100)\n",
    "Riemann32t(float32(3.6667),100)\n",
    "Riemann64p(float64(3.6667),100)\n",
    "Riemann64t(float64(3.6667),100)\n",
    "print(\" \")\n",
    "Riemann32p(float32(5), 200)\n",
    "Riemann32t(float32(5),200)\n",
    "Riemann64p(float64(5),200)\n",
    "Riemann64t(float64(5),200)\n",
    "print(\"\")\n",
    "Riemann32p(float32(7.2),500)\n",
    "Riemann32t(float32(7.2),500)\n",
    "Riemann64p(float64(7.2),500)\n",
    "Riemann64t(float64(7.2),500)\n",
    "print(\" \")\n",
    "Riemann32p(float32(10), 1000)\n",
    "Riemann32t(float32(10),1000)\n",
    "Riemann64p(float32(10),1000)\n",
    "Riemann64t(float32(10),1000)\n"
   ]
  },
  {
   "cell_type": "code",
   "execution_count": 51,
   "metadata": {},
   "outputs": [
    {
     "name": "stdout",
     "output_type": "stream",
     "text": [
      "0.8222710318260295\n",
      "0.8222710318260289\n",
      "0.8222710318260295\n",
      "0.8222710318260289\n",
      "\n",
      "0.9346933165042048\n",
      "0.934693316504205\n",
      "0.9346933211400662\n",
      "0.934693321140067\n",
      "\n",
      "0.972119770445367\n",
      "0.9721197704453663\n",
      "0.972119770445367\n",
      "0.9721197704453663\n",
      "\n",
      "0.9935269998293503\n",
      "0.9935269998293504\n",
      "0.9935270006616201\n",
      "0.9935270006616198\n",
      "\n",
      "0.9990395075982718\n",
      "0.9990395075982715\n",
      "0.9990395075982718\n",
      "0.9990395075982715\n",
      "\n"
     ]
    }
   ],
   "source": [
    "Dirichlet32p(float32(2),50)\n",
    "Dirichlet32t(float32(2),50)\n",
    "Dirichlet64p(float64(2),50)\n",
    "Dirichlet64t(float64(2),50)\n",
    "print(\"\")\n",
    "Dirichlet32p(float32(3.6667),100)\n",
    "Dirichlet32t(float32(3.6667),100)\n",
    "Dirichlet64p(float64(3.6667),100)\n",
    "Dirichlet64t(float64(3.6667),100)\n",
    "print(\"\")\n",
    "Dirichlet32p(float32(5),200)\n",
    "Dirichlet32t(float32(5),200)\n",
    "Dirichlet64p(float64(5),200)\n",
    "Dirichlet64t(float64(5),200)\n",
    "print(\"\")\n",
    "Dirichlet32p(float32(7.2),500)\n",
    "Dirichlet32t(float32(7.2),500)\n",
    "Dirichlet64p(float64(7.2),500)\n",
    "Dirichlet64t(float64(7.2),500)\n",
    "print(\"\")\n",
    "Dirichlet32p(float32(10),1000)\n",
    "Dirichlet32t(float32(10),1000)\n",
    "Dirichlet64p(float64(10),1000)\n",
    "Dirichlet64t(float64(10),1000)\n",
    "print(\"\")"
   ]
  },
  {
   "cell_type": "markdown",
   "metadata": {},
   "source": [
    "Przy zastosowaniu pojedynczej i podwójnej precyzji wyniki różnią się, jednak tylko w przypadku liczb, które mają więcej cyfr po przecinku. Oczywiście, przy podwójnej precyzji są dokładniejsze. \n",
    "\n",
    "W każdym przypadku natomiast wyniki sumowania w przód i w tył różnią się. Dają podobne wyniki, ale dzięki temu, że dodając od tyłu zaczynamy od mniejszych liczb i dodajemy je do siebie, dokładność w tym przypadku jest większa. Dodając w przód te mniejsze liczby mają mniejszy wpływ na kolejne duże liczby, \"gubią się\" przy zaokrągleniach. "
   ]
  },
  {
   "cell_type": "markdown",
   "metadata": {},
   "source": [
    "# Zad 4"
   ]
  },
  {
   "cell_type": "markdown",
   "metadata": {},
   "source": [
    "Przy wykonywaniu tego zadania korzystalam z:\n",
    "https://ipython-books.github.io/121-plotting-the-bifurcation-diagram-of-a-chaotic-dynamical-system/\n",
    "https://en.wikipedia.org/wiki/Logistic_map"
   ]
  },
  {
   "cell_type": "code",
   "execution_count": 52,
   "metadata": {},
   "outputs": [],
   "source": [
    "def logistic (r,x):\n",
    "    return r*x*(1-x)"
   ]
  },
  {
   "cell_type": "code",
   "execution_count": 53,
   "metadata": {},
   "outputs": [
    {
     "data": {
      "image/png": "[encoded data removed]",
      "text/plain": [
       "<Figure size 432x288 with 1 Axes>"
      ]
     },
     "metadata": {
      "needs_background": "light"
     },
     "output_type": "display_data"
    }
   ],
   "source": [
    "def bifurcation_diagram(x0, iterations, skip):\n",
    "    r_range=np.linspace(1,4, 1000)\n",
    "    last = 100\n",
    "    R = []\n",
    "    Y = []\n",
    "    for r in r_range:\n",
    "        x=x0\n",
    "        for i in range(iterations):\n",
    "            if i>=(iterations - skip):\n",
    "                R.append(r)\n",
    "                Y.append(x)\n",
    "            x = logistic(r, x)\n",
    "\n",
    "    plt.plot(R, Y, ',' ,marker=',')\n",
    "    plt.ylim(0,1)\n",
    "    plt.xlim(1,4)\n",
    "    plt.xlabel(\"r\")\n",
    "    plt.show()\n",
    "bifurcation_diagram(0.2, 1000,100)"
   ]
  },
  {
   "cell_type": "code",
   "execution_count": 54,
   "metadata": {},
   "outputs": [
    {
     "data": {
      "image/png": "[encoded data removed]",
      "text/plain": [
       "<Figure size 432x288 with 1 Axes>"
      ]
     },
     "metadata": {
      "needs_background": "light"
     },
     "output_type": "display_data"
    }
   ],
   "source": [
    "def bifurcation_diagram(x0, iterations, skip):\n",
    "    r_range=np.linspace(1,4, 1000)\n",
    "    last = 100\n",
    "    R = []\n",
    "    Y = []\n",
    "    for r in r_range:\n",
    "        x=x0\n",
    "        for i in range(iterations):\n",
    "            if i>=(iterations - skip):\n",
    "                R.append(r)\n",
    "                Y.append(x)\n",
    "            x = logistic(r, x)\n",
    "\n",
    "    plt.plot(R, Y, ',', marker=',')\n",
    "    plt.ylim(0,1)\n",
    "    plt.xlim(1,4)\n",
    "    plt.xlabel(\"r\")\n",
    "    plt.show()\n",
    "bifurcation_diagram(float32(0.0001), 1000,100)"
   ]
  },
  {
   "cell_type": "markdown",
   "metadata": {},
   "source": [
    "Pomiędzy 0 a 1 im większe r - tym więsza wartość x. W 3 wykres rozchodzi się\n",
    "na dwie części - wartości oscylują między dwoma wartościami. Następne w okolicach\n",
    "3.5 rozdziela się na kolejne dwie wartości. W punkcie r = 3.6 zaczyna się chaos, nie da\n",
    "się przewidzieć kolejnych wartości."
   ]
  },
  {
   "cell_type": "code",
   "execution_count": null,
   "metadata": {},
   "outputs": [],
   "source": [
    "def logistic_c (x):\n",
    "    r =4\n",
    "    i = 0\n",
    "    while x!=0:\n",
    "        x=r*(1-x)\n",
    "        i+=1\n",
    "    return i\n",
    "print(logistic_c(float32(0.0000001)))"
   ]
  },
  {
   "cell_type": "markdown",
   "metadata": {},
   "source": [
    "Nie udało mi się znaleźć takiej liczby, aby x wynosiło 0. "
   ]
  }
 ],
 "metadata": {
  "kernelspec": {
   "display_name": "Python 3",
   "language": "python",
   "name": "python3"
  },
  "language_info": {
   "codemirror_mode": {
    "name": "ipython",
    "version": 3
   },
   "file_extension": ".py",
   "mimetype": "text/x-python",
   "name": "python",
   "nbconvert_exporter": "python",
   "pygments_lexer": "ipython3",
   "version": "3.8.5"
  }
 },
 "nbformat": 4,
 "nbformat_minor": 4
}
