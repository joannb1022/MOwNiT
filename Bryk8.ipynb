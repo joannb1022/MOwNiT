{
 "cells": [
  {
   "cell_type": "code",
   "execution_count": 2,
   "metadata": {},
   "outputs": [],
   "source": [
    "import numpy as np\n",
    "import timeit\n",
    "import matplotlib.pyplot as plt\n",
    "from scipy import linalg"
   ]
  },
  {
   "cell_type": "markdown",
   "metadata": {},
   "source": [
    "# Zad 1 "
   ]
  },
  {
   "cell_type": "code",
   "execution_count": 3,
   "metadata": {},
   "outputs": [],
   "source": [
    "def power_method(A, x, max_iter, epsilon):\n",
    "    n = A.shape[0]\n",
    "    i = 0\n",
    "    x1 = A @ x\n",
    "    max_elemt = 1\n",
    "    while i < max_iter and np.linalg.norm(x*max_elemt - x1) > epsilon: #i tu jeszczce z tym epsilonem\n",
    "        max_elemt = np.linalg.norm(x1, ord = np.inf)\n",
    "        x = x1/max_elemt\n",
    "        i+=1\n",
    "        x1 = A @ x\n",
    "    return max_elemt, x1/np.linalg.norm(x1, ord = np.inf)\n",
    "\n",
    "def check(value, vector, X):\n",
    "    value_1 = max(X[0])\n",
    "    vector_1 = X[1][:,0]\n",
    "    if np.isclose(value - value_1, 0):\n",
    "        return True\n",
    "    return False"
   ]
  },
  {
   "cell_type": "code",
   "execution_count": 4,
   "metadata": {},
   "outputs": [
    {
     "name": "stdout",
     "output_type": "stream",
     "text": [
      "Funkcja biblioteczna:  0.02909579999959533\n",
      "Moja funkcja:  0.0010105000001203734\n",
      "Różnica: 0.028085299999474955 dla N: 100\n",
      "Zgodne wyniki:  True \n",
      "\n",
      "Funkcja biblioteczna:  0.02600299999994604\n",
      "Moja funkcja:  0.0007744000004095142\n",
      "Różnica: 0.025228599999536527 dla N: 200\n",
      "Zgodne wyniki:  True \n",
      "\n",
      "Funkcja biblioteczna:  0.0562763999996605\n",
      "Moja funkcja:  0.0015411000003950903\n",
      "Różnica: 0.05473529999926541 dla N: 300\n",
      "Zgodne wyniki:  True \n",
      "\n",
      "Funkcja biblioteczna:  0.10538639999958832\n",
      "Moja funkcja:  0.00551880000057281\n",
      "Różnica: 0.09986759999901551 dla N: 400\n",
      "Zgodne wyniki:  True \n",
      "\n",
      "Funkcja biblioteczna:  0.24752820000048814\n",
      "Moja funkcja:  0.001923700000588724\n",
      "Różnica: 0.24560449999989942 dla N: 500\n",
      "Zgodne wyniki:  True \n",
      "\n",
      "Funkcja biblioteczna:  0.3705062999997608\n",
      "Moja funkcja:  0.3059490999994523\n",
      "Różnica: 0.06455720000030851 dla N: 600\n",
      "Zgodne wyniki:  True \n",
      "\n",
      "Funkcja biblioteczna:  0.5236154000003808\n",
      "Moja funkcja:  0.27781190000041533\n",
      "Różnica: 0.24580349999996542 dla N: 700\n",
      "Zgodne wyniki:  True \n",
      "\n",
      "Funkcja biblioteczna:  0.6124171000001297\n",
      "Moja funkcja:  0.5564776000001075\n",
      "Różnica: 0.055939500000022235 dla N: 800\n",
      "Zgodne wyniki:  True \n",
      "\n",
      "Funkcja biblioteczna:  0.9688384999999471\n",
      "Moja funkcja:  0.5743286999995689\n",
      "Różnica: 0.39450980000037816 dla N: 900\n",
      "Zgodne wyniki:  True \n",
      "\n",
      "Funkcja biblioteczna:  1.0518737000002147\n",
      "Moja funkcja:  0.5485840999999709\n",
      "Różnica: 0.5032896000002438 dla N: 1000\n",
      "Zgodne wyniki:  True \n",
      "\n",
      "Funkcja biblioteczna:  1.3826622000005955\n",
      "Moja funkcja:  0.7371440999995684\n",
      "Różnica: 0.645518100001027 dla N: 1100\n",
      "Zgodne wyniki:  True \n",
      "\n",
      "Funkcja biblioteczna:  2.1229162999998152\n",
      "Moja funkcja:  0.9915641000006872\n",
      "Różnica: 1.131352199999128 dla N: 1200\n",
      "Zgodne wyniki:  True \n",
      "\n",
      "Funkcja biblioteczna:  3.3244746999998824\n",
      "Moja funkcja:  1.8466441999999006\n",
      "Różnica: 1.4778304999999818 dla N: 1300\n",
      "Zgodne wyniki:  True \n",
      "\n",
      "Funkcja biblioteczna:  4.107197500000439\n",
      "Moja funkcja:  1.2956309000001056\n",
      "Różnica: 2.811566600000333 dla N: 1400\n",
      "Zgodne wyniki:  True \n",
      "\n",
      "Funkcja biblioteczna:  3.8424322000000757\n",
      "Moja funkcja:  1.428839500000322\n",
      "Różnica: 2.4135926999997537 dla N: 1500\n",
      "Zgodne wyniki:  True \n",
      "\n",
      "Funkcja biblioteczna:  5.7896356999999625\n",
      "Moja funkcja:  1.8653518000000986\n",
      "Różnica: 3.924283899999864 dla N: 1600\n",
      "Zgodne wyniki:  True \n",
      "\n",
      "Funkcja biblioteczna:  5.591533099999651\n",
      "Moja funkcja:  2.106804000000011\n",
      "Różnica: 3.4847290999996403 dla N: 1700\n",
      "Zgodne wyniki:  True \n",
      "\n",
      "Funkcja biblioteczna:  8.431735500000286\n",
      "Moja funkcja:  1.6006687000008242\n",
      "Różnica: 6.831066799999462 dla N: 1800\n",
      "Zgodne wyniki:  True \n",
      "\n",
      "Funkcja biblioteczna:  6.782177299999603\n",
      "Moja funkcja:  1.8609239999996134\n",
      "Różnica: 4.921253299999989 dla N: 1900\n",
      "Zgodne wyniki:  True \n",
      "\n",
      "Funkcja biblioteczna:  8.047346400000606\n",
      "Moja funkcja:  2.0218269999995755\n",
      "Różnica: 6.025519400001031 dla N: 2000\n",
      "Zgodne wyniki:  True \n",
      "\n",
      "Funkcja biblioteczna:  9.060024100000192\n",
      "Moja funkcja:  2.3577917000002344\n",
      "Różnica: 6.702232399999957 dla N: 2100\n",
      "Zgodne wyniki:  True \n",
      "\n",
      "Funkcja biblioteczna:  9.85728779999954\n",
      "Moja funkcja:  2.516597400000137\n",
      "Różnica: 7.340690399999403 dla N: 2200\n",
      "Zgodne wyniki:  True \n",
      "\n",
      "Funkcja biblioteczna:  11.083532100000411\n",
      "Moja funkcja:  2.595195799999601\n",
      "Różnica: 8.48833630000081 dla N: 2300\n",
      "Zgodne wyniki:  True \n",
      "\n",
      "Funkcja biblioteczna:  13.933026499999869\n",
      "Moja funkcja:  3.3275802999996813\n",
      "Różnica: 10.605446200000188 dla N: 2400\n",
      "Zgodne wyniki:  True \n",
      "\n"
     ]
    },
    {
     "data": {
      "image/png": "[encoded data removed]",
      "text/plain": [
       "<Figure size 432x288 with 1 Axes>"
      ]
     },
     "metadata": {
      "needs_background": "light"
     },
     "output_type": "display_data"
    }
   ],
   "source": [
    "times1 = []\n",
    "times2 = []\n",
    "it = []\n",
    "\n",
    "for i in range(100, 2500, 100):\n",
    "    it.append(i)\n",
    "    A2 = np.random.rand(i,i)\n",
    "    A2 = A2 @ A2.T\n",
    "    x2 = np.random.rand(i, 1)\n",
    "    starttime = timeit.default_timer()\n",
    "    X = np.linalg.eig(A2)\n",
    "    time1 = timeit.default_timer()-starttime\n",
    "    times1.append(time1)\n",
    "    print(\"Funkcja biblioteczna: \", time1)\n",
    "    starttime = timeit.default_timer()\n",
    "    val, vec = power_method(A2, x2, 1000, 1e-10)\n",
    "    time2 = timeit.default_timer()- starttime\n",
    "    times2.append(time2)\n",
    "    print(\"Moja funkcja: \", time2)\n",
    "    print(f\"Różnica: {abs(time1-time2)} dla N: {i}\")\n",
    "    print(\"Zgodne wyniki: \", check(val, vec, X), \"\\n\")\n",
    "    \n",
    "\n",
    "plt.plot(it, times1, label = \"Funkcja biblioteczna\")\n",
    "plt.plot(it, times2, label = \"Moja funkcja\")\n",
    "plt.xlabel(\"Rozmiar macierzy\")\n",
    "plt.ylabel(\"Czas\")\n",
    "plt.legend()\n",
    "plt.show()\n",
    "\n",
    "  "
   ]
  },
  {
   "cell_type": "markdown",
   "metadata": {},
   "source": [
    "Widoczna jest zależność im większy rozmiar macierzy, tym więcej czasu zajmuje wyliczenie odpowiednich wartości przez obie funkcje. Widoczne są jednak fragmenty, kiedy funkcja jest malejąca, wynika to prawdopodobnie z tego, że macierze są różne, wymagają mniej lub więcej skompilkowanych obliczeń. Analizując wykres można również stwierdzić, że funkcja napisana przeze mnie jest znacznie szybsza niż funkcja biblioteczna. Wynika to z faktu, że w metodzie potęgowej interesuje nas jedynie największa wartość własna - zmniejsza to ilość obliczeń. Może to oczywiście być wadą tej metody, szczególnie, kiedy potrzebujemy więcej własności i wektorów własnych."
   ]
  },
  {
   "cell_type": "markdown",
   "metadata": {},
   "source": [
    "# Zad 2"
   ]
  },
  {
   "cell_type": "code",
   "execution_count": 5,
   "metadata": {},
   "outputs": [],
   "source": [
    "A = np.random.rand(3,3)\n",
    "A = A @ A.T\n",
    "x0 = np.random.rand(3)"
   ]
  },
  {
   "cell_type": "code",
   "execution_count": 9,
   "metadata": {},
   "outputs": [],
   "source": [
    "def plu_solve(A, b):\n",
    "    LU, P = linalg.lu_factor(A)\n",
    "    return linalg.lu_solve((LU, P), b) "
   ]
  },
  {
   "cell_type": "markdown",
   "metadata": {},
   "source": [
    "Funkcja 'inverse_pm' jest bardzo podobna do funkcji z zadania 1. Przyjmuje dodatkowo parametr d (liczbę bliską do wartości własnej macierzy). W każdej iteracji rozwiązywany jest układ równań (A - d * I)x1 = x. Nastepnie wyliczany jest max_element, tak samo jak w zadaniu 1, aby móc znormalizować wyliczony wektor x1 (i od razu przypisuje go do zmiennej x). Należy pamiętać o tym, aby zwrócić jako wartość własną odpowiednią liczbę - odwrotność max_element \"przesunięte\" o d. "
   ]
  },
  {
   "cell_type": "code",
   "execution_count": 10,
   "metadata": {},
   "outputs": [
    {
     "name": "stdout",
     "output_type": "stream",
     "text": [
      "Funkcja biblioteczna:  (array([2.66835949, 0.33065532, 0.08569513]), array([[-0.5449694 , -0.59495193, -0.59079654],\n",
      "       [-0.43752931,  0.80287111, -0.40492726],\n",
      "       [-0.71524573, -0.03781784,  0.69784909]]))\n",
      "D =  2\n",
      "Liczba iteracji: 25\n",
      "Wartość własna: 2.668359487243754, wektor własny: [0.5449694  0.43752931 0.71524573]\n",
      "Warunek na bycie wektorem i wartością własną: True\n",
      "Odpowiednio policzona własność:  True\n",
      " \n",
      "D =  0\n",
      "Liczba iteracji: 19\n",
      "Wartość własna: 0.08569512602930472, wektor własny: [-0.59079654 -0.40492726  0.69784909]\n",
      "Warunek na bycie wektorem i wartością własną: True\n",
      "Odpowiednio policzona własność:  True\n",
      " \n",
      "D =  1\n",
      "Liczba iteracji: 1000\n",
      "Wartość własna: 1.6693446844636606, wektor własny: [ 0.59495193 -0.80287111  0.03781784]\n",
      "Warunek na bycie wektorem i wartością własną: False\n",
      "Odpowiednio policzona własność:  False\n",
      " \n",
      "D =  10\n",
      "Liczba iteracji: 1000\n",
      "Wartość własna: 17.331640512756593, wektor własny: [-0.5449694  -0.43752931 -0.71524573]\n",
      "Warunek na bycie wektorem i wartością własną: False\n",
      "Odpowiednio policzona własność:  False\n",
      " \n"
     ]
    }
   ],
   "source": [
    "def inverse_pm(A, x, d, max_iter, epsilon):\n",
    "    M = A.copy()\n",
    "    I = np.identity(M.shape[0]) #macierz identycznościowa\n",
    "    M = M - d * I \n",
    "    i = 0\n",
    "def check_for_inverse(X, vec, val):\n",
    "    for value in X[0]:\n",
    "        if np.isclose(val - value, 0):\n",
    "            return True\n",
    "    return False\n",
    "    \n",
    "def check_val_vec(val, vec, A):\n",
    "    if np.allclose(val*vec, A@vec, atol = 1e-10):\n",
    "        return True\n",
    "    return False\n",
    "\n",
    "def print_info(d):\n",
    "    print(\"D = \", d)\n",
    "    max_element = 1\n",
    "    x1 = plu_solve(M, x)\n",
    "    while i < max_iter and np.linalg.norm(x*max_element - x1) > epsilon: \n",
    "        max_element = np.linalg.norm(x1, ord = np.inf)\n",
    "        x = x1/max_element\n",
    "        x1 = plu_solve(M, x)\n",
    "        i += 1 \n",
    "    print(f\"Liczba iteracji: {i}\")\n",
    "    return 1/max_element + d, x1/np.linalg.norm(x1) \n",
    "\n",
    "    val, vec = inverse_pm(A, x0, d, 1000, 1e-10)\n",
    "    print(f'Wartość własna: {val}, wektor własny: {vec}')\n",
    "    print('Warunek na bycie wektorem i wartością własną:', check_val_vec(val, vec, A))\n",
    "    X = np.linalg.eig(A)\n",
    "    print(\"Odpowiednio policzona własność: \", check_for_inverse(X, vec, val))\n",
    "    print(\" \")\n",
    "\n",
    "X = np.linalg.eig(A)\n",
    "print('Funkcja biblioteczna: ', X), \"\\n\"\n",
    "print_info(2)\n",
    "print_info(0)\n",
    "print_info(1)\n",
    "print_info(10)"
   ]
  },
  {
   "cell_type": "markdown",
   "metadata": {},
   "source": [
    "Minusem tej metody jest konieczność wybrania odpowiedniej wartości d, która powinna być dobrym przybliżeniem wartości własnej. Podając nieodpowiedni argument, metoda ta może nie dać oczekiwanych wyników. Co ważne, kiedy za d podstawimy 0, otrzymujemy najmniejszą wartość własną. "
   ]
  },
  {
   "cell_type": "markdown",
   "metadata": {},
   "source": [
    "# Zad 3 "
   ]
  },
  {
   "cell_type": "code",
   "execution_count": 12,
   "metadata": {},
   "outputs": [
    {
     "name": "stdout",
     "output_type": "stream",
     "text": [
      "Funkcja biblioteczna:  (array([2.66835949, 0.33065532, 0.08569513]), array([[-0.5449694 , -0.59495193, -0.59079654],\n",
      "       [-0.43752931,  0.80287111, -0.40492726],\n",
      "       [-0.71524573, -0.03781784,  0.69784909]]))\n",
      "D =  2.66\n",
      "Liczba iteracji: 5\n",
      "Wartość własna: 2.6683594872434084, wektor własny: [0.5449694  0.43752931 0.71524573]\n",
      "Warunek na bycie wektorem i wartością własną: True\n",
      "Odpowiednio policzona własność:  True\n",
      " \n",
      "D =  0\n",
      "Liczba iteracji: 1000\n",
      "Wartość własna: 0.08569512602936172, wektor własny: [ 0.59079654  0.40492726 -0.69784909]\n",
      "Warunek na bycie wektorem i wartością własną: True\n",
      "Odpowiednio policzona własność:  True\n",
      " \n",
      "D =  1\n",
      "Liczba iteracji: 1000\n",
      "Wartość własna: 0.08569512602936166, wektor własny: [-0.59079654 -0.40492726  0.69784909]\n",
      "Warunek na bycie wektorem i wartością własną: True\n",
      "Odpowiednio policzona własność:  True\n",
      " \n",
      "D =  0.366\n",
      "Liczba iteracji: 1000\n",
      "Wartość własna: 0.3306553155363394, wektor własny: [-0.59495193  0.80287111 -0.03781784]\n",
      "Warunek na bycie wektorem i wartością własną: True\n",
      "Odpowiednio policzona własność:  True\n",
      " \n"
     ]
    }
   ],
   "source": [
    "def inverse_pm_R(A, x, d,  max_iter, epsilon):\n",
    "    I = np.identity(A.shape[0])\n",
    "    i = 0\n",
    "    x1 = plu_solve(A, x)\n",
    "    max_element = 1\n",
    "    while i < max_iter and np.linalg.norm(x - x1/max_element) > epsilon: \n",
    "        max_element = np.linalg.norm(x1, ord = np.inf)\n",
    "        x = x1/max_element\n",
    "        x1 = plu_solve((A - d*I), x) # znowu rozwiazuje rownanie\n",
    "        d = x1.T @ A @ x1 / (x1.T@x1) #za każdą iteracją uaktualniam d zgodnie z wzorem\n",
    "        i += 1 #zwiekszam i\n",
    "    print(f'Liczba iteracji: {i}')\n",
    "    return 1/max_element + d, x1/np.linalg.norm(x1) \n",
    "\n",
    "def print_info_R(d):\n",
    "    print(\"D = \", d)\n",
    "    val, vec = inverse_pm_R(A, x0, d, 1000, 1e-10)\n",
    "    print(f'Wartość własna: {val}, wektor własny: {vec}')\n",
    "    print('Warunek na bycie wektorem i wartością własną:', check_val_vec(val, vec, A))\n",
    "    X = np.linalg.eig(A)\n",
    "    print(\"Odpowiednio policzona własność: \", check_for_inverse(X, vec, val))\n",
    "    print(\" \")\n",
    "\n",
    "X = np.linalg.eig(A)\n",
    "print('Funkcja biblioteczna: ', X)\n",
    "print_info_R(2.66)\n",
    "print_info_R(0)\n",
    "print_info_R(1)\n",
    "print_info_R(0.366)"
   ]
  },
  {
   "cell_type": "markdown",
   "metadata": {},
   "source": [
    "Ta metoda jest zbieżna w każdym wypróbowanym przypadku, czyli działa lepiej niż metoda w zadaniu 2. Jednak nadal należy odpowiednio dobierać własności d, aby otrzymać wszystkie wartości własne."
   ]
  }
 ],
 "metadata": {
  "kernelspec": {
   "display_name": "Python 3",
   "language": "python",
   "name": "python3"
  },
  "language_info": {
   "codemirror_mode": {
    "name": "ipython",
    "version": 3
   },
   "file_extension": ".py",
   "mimetype": "text/x-python",
   "name": "python",
   "nbconvert_exporter": "python",
   "pygments_lexer": "ipython3",
   "version": "3.8.5"
  }
 },
 "nbformat": 4,
 "nbformat_minor": 4
}
