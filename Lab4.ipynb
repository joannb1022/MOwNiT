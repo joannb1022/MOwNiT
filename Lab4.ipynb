{
 "cells": [
  {
   "cell_type": "code",
   "execution_count": 14,
   "metadata": {},
   "outputs": [],
   "source": [
    "import matplotlib.pyplot as plt\n",
    "import numpy as np\n",
    "from scipy import interpolate\n",
    "from scipy import special\n",
    "from numpy import poly1d\n",
    "import scipy.integrate as integrate"
   ]
  },
  {
   "cell_type": "markdown",
   "metadata": {},
   "source": [
    "# Zad 1 "
   ]
  },
  {
   "cell_type": "markdown",
   "metadata": {},
   "source": [
    "a) "
   ]
  },
  {
   "cell_type": "code",
   "execution_count": 15,
   "metadata": {},
   "outputs": [
    {
     "name": "stdout",
     "output_type": "stream",
     "text": [
      "Stopień wielomianu:  0\n",
      "Simpson:  8.0\n",
      "Analitycznie: 8.0\n",
      "\n",
      "Stopień wielomianu:  1\n",
      "Simpson:  32.0\n",
      "Analitycznie: 32.0\n",
      "\n",
      "Stopień wielomianu:  2\n",
      "Simpson:  170.66666666666666\n",
      "Analitycznie: 170.66666666666666\n",
      "\n",
      "Stopień wielomianu:  3\n",
      "Simpson:  1024.0\n",
      "Analitycznie: 1024.0\n",
      "\n",
      "Stopień wielomianu:  4\n",
      "Simpson:  6826.666666666667\n",
      "Analitycznie: 6553.6\n",
      "\n",
      "Stopień wielomianu:  5\n",
      "Simpson:  49152.0\n",
      "Analitycznie: 43690.666666666664\n",
      "\n"
     ]
    }
   ],
   "source": [
    "def simpson(f, a, b):\n",
    "    return ((b - a) * (f(a) + 4 * f((a + b) / 2) + f(b)))/6\n",
    "\n",
    "def analytical(a, b, i):\n",
    "    return (b**(i+1) - a**(i+1))/(i+1)\n",
    "    \n",
    "\n",
    "f0 = lambda x: 1\n",
    "f1 = lambda x: x\n",
    "f2 = lambda x: x**2\n",
    "f3 = lambda x: x**3\n",
    "f4 = lambda x: x**4\n",
    "f5 = lambda x: x**5\n",
    "f6 = lambda x: x**6\n",
    "f7 = lambda x: x**7\n",
    "f8 = lambda x: x**8\n",
    "\n",
    "functions = [f0, f1, f2, f3, f4, f5, f6, f7, f8]\n",
    "\n",
    "for i, f  in enumerate(functions[:-3]):\n",
    "    print(\"Stopień wielomianu: \", i)\n",
    "    print(\"Simpson: \", simpson(f,0,8))\n",
    "    print(\"Analitycznie:\", analytical(0,8, i))\n",
    "    print(\"\")\n",
    "\n",
    "    "
   ]
  },
  {
   "cell_type": "markdown",
   "metadata": {},
   "source": [
    "Wyniki zgadzają się do wielomianu 3. stopnia. Przy 4. pojawia się błąd, przy kolejncyh stopniach również. Zgadza się to z uwagą z wykładu - wzór ten jest dokładny dla funkcji sześciennych. "
   ]
  },
  {
   "cell_type": "markdown",
   "metadata": {},
   "source": [
    "b) "
   ]
  },
  {
   "cell_type": "code",
   "execution_count": 16,
   "metadata": {},
   "outputs": [
    {
     "name": "stdout",
     "output_type": "stream",
     "text": [
      "Wartość na całym przedziale [0,5]: \n",
      "-0.0010027325181523321\n",
      "Suma na [0,1] i [1,5]: \n",
      "0.10368557622593552\n"
     ]
    }
   ],
   "source": [
    "f_exp_sin = lambda x: np.exp(-3*x)* np.sin(4*x)\n",
    "\n",
    "def simpson(f, a, b):\n",
    "    return ((b - a) * (f(a) + 4 * f((a + b) / 2) + f(b)))/6\n",
    "\n",
    "print(\"Wartość na całym przedziale [0,5]: \")\n",
    "print(simpson(f_exp_sin, 0, 5))\n",
    "print(\"Suma na [0,1] i [1,5]: \")\n",
    "print(simpson(f_exp_sin, 0, 1) + simpson(f_exp_sin,1,5) )"
   ]
  },
  {
   "cell_type": "markdown",
   "metadata": {},
   "source": [
    "Wyniki różnią się, co więcej oba nie są poprawne. Jest to spowodowane przez specyficzny kształt tej funkcji. "
   ]
  },
  {
   "cell_type": "markdown",
   "metadata": {},
   "source": [
    "c)"
   ]
  },
  {
   "cell_type": "code",
   "execution_count": 17,
   "metadata": {},
   "outputs": [
    {
     "data": {
      "image/png": "[encoded data removed]",
      "text/plain": [
       "<Figure size 432x288 with 1 Axes>"
      ]
     },
     "metadata": {
      "needs_background": "light"
     },
     "output_type": "display_data"
    }
   ],
   "source": [
    "def plot(f, func_interpolate, a, b):\n",
    "    x_plot = np.linspace(0,5,100)\n",
    "    y_plot = f(x_plot)\n",
    "    plt.plot(x_plot, y_plot)\n",
    "    y_plot = func_interpolate(x_plot)\n",
    "    plt.plot(x_plot, y_plot)\n",
    "\n",
    "x_plot = np.linspace(0,5,3) #poczatek, srodek, koniec\n",
    "y_plot = f_exp_sin(x_plot)\n",
    "func_interpolate = interpolate.interp1d(x_plot, y_plot,kind = 'quadratic')\n",
    "\n",
    "plot(f_exp_sin, func_interpolate, 0, 5)"
   ]
  },
  {
   "cell_type": "markdown",
   "metadata": {},
   "source": [
    "\n",
    "# Zad 2"
   ]
  },
  {
   "cell_type": "markdown",
   "metadata": {},
   "source": [
    "Kwadratura adaptacyjna Simpsona - przy jej implementowaniu korzystałam z algorytmu z książki \"Numerical Mathematics and Computing\" Cheney, Kincaid."
   ]
  },
  {
   "cell_type": "code",
   "execution_count": 18,
   "metadata": {},
   "outputs": [],
   "source": [
    "def adaptive_simpson(f, right, left, accuracy, div):\n",
    "    h = left - right\n",
    "    c = (right + left) / 2\n",
    "    div.append(c)\n",
    "    one_simpson = h * (f(right) + 4 * f(c) + f(left)) / 6\n",
    "    d = (right + c) / 2\n",
    "    div.append(d)\n",
    "    e = (c + left) / 2\n",
    "    div.append(e)\n",
    "    two_simpson = h * (f(right)+ 4 * f(d) + 2 * f(c) + 4 * f(e) + f(left)) / 12\n",
    "    if abs(two_simpson - one_simpson) < 15 * accuracy:\n",
    "        return two_simpson + (two_simpson - one_simpson) / 15\n",
    "    else:\n",
    "        left_sim = adaptive_simpson(f, right, c, accuracy/2, div)\n",
    "        right_sim = adaptive_simpson(f, c, left, accuracy/2, div)\n",
    "        simpson_result = left_sim + right_sim\n",
    "        return simpson_result"
   ]
  },
  {
   "cell_type": "code",
   "execution_count": 19,
   "metadata": {},
   "outputs": [
    {
     "name": "stdout",
     "output_type": "stream",
     "text": [
      "0.15999995829128047\n"
     ]
    }
   ],
   "source": [
    "f_exp_sin = lambda x: np.exp(-3*x)* np.sin(4*x)\n",
    "div = []\n",
    "print(adaptive_simpson(f_exp_sin, 0, 5, (0.5)*10**(-7),div))"
   ]
  },
  {
   "cell_type": "markdown",
   "metadata": {},
   "source": [
    "Wynik różni się od tych wyliczonych w zadaniu 1b. Jest to wynik poprawny."
   ]
  },
  {
   "cell_type": "code",
   "execution_count": 20,
   "metadata": {},
   "outputs": [
    {
     "data": {
      "image/png": "[encoded data removed]",
      "text/plain": [
       "<Figure size 432x288 with 1 Axes>"
      ]
     },
     "metadata": {
      "needs_background": "light"
     },
     "output_type": "display_data"
    },
    {
     "data": {
      "image/png": "[encoded data removed]",
      "text/plain": [
       "<Figure size 432x288 with 1 Axes>"
      ]
     },
     "metadata": {
      "needs_background": "light"
     },
     "output_type": "display_data"
    }
   ],
   "source": [
    "def plot_adaptive_simpson(sub = False):\n",
    "    div = []\n",
    "    x_plot = np.linspace(0,5, 100)\n",
    "    y_plot = f_exp_sin(x_plot)\n",
    "    plt.plot(x_plot, y_plot)\n",
    "    adaptive_simpson(f_exp_sin, 0, 5, 1e-3, div)\n",
    "    div.append(0)\n",
    "    div.append(5)\n",
    "    if sub:\n",
    "        for d in div:\n",
    "            plt.axvline(d, 0, 1, c= 'g')\n",
    "    plt.show()\n",
    "    \n",
    "plot_adaptive_simpson()\n",
    "plot_adaptive_simpson(True)\n",
    "    "
   ]
  },
  {
   "cell_type": "markdown",
   "metadata": {},
   "source": [
    "Dzięki podzieleniu głównego przedziału na mniejsze podprzedziały kwadratura adapatacyjna Simpsona jest lepszą metodą niż elementarna metoda Simpsona. Na wykresie powyżej widać, w jaki sposób algorytm dzieli główny przedział. W miejsce, gdzie funkcja jest bardziej \"spiczasta\" i wartości są trudniejsze do policzenia, podprzedziały są mniejsze i jest ich więcej."
   ]
  },
  {
   "cell_type": "markdown",
   "metadata": {},
   "source": [
    "# Zad 3"
   ]
  },
  {
   "cell_type": "code",
   "execution_count": 21,
   "metadata": {},
   "outputs": [
    {
     "data": {
      "image/png": "[encoded data removed]",
      "text/plain": [
       "<Figure size 432x288 with 1 Axes>"
      ]
     },
     "metadata": {
      "needs_background": "light"
     },
     "output_type": "display_data"
    }
   ],
   "source": [
    "def legendre(n):\n",
    "    if n==0:\n",
    "        return poly1d([1])\n",
    "    if n==1:\n",
    "        return poly1d([1,0])\n",
    "    return (2*n-1)/(n) *poly1d([1,0]) * legendre(n-1) - (n-1)/(n)*legendre(n-2)\n",
    "     \n",
    "def plot_legendre():\n",
    "    x_plot = np.linspace(-1,1,100)\n",
    "    for i in range(5):\n",
    "        func = legendre(i)\n",
    "        y_plot = func(x_plot)\n",
    "        plt.plot(x_plot, y_plot)\n",
    "    plt.show()\n",
    "        \n",
    "plot_legendre()"
   ]
  },
  {
   "cell_type": "markdown",
   "metadata": {},
   "source": [
    "Zad 3b:"
   ]
  },
  {
   "cell_type": "code",
   "execution_count": 22,
   "metadata": {},
   "outputs": [
    {
     "name": "stdout",
     "output_type": "stream",
     "text": [
      "2\n",
      "Miejsca zerowe wielomianu Legendre: [ 0.57735027 -0.57735027]\n",
      "Odcięte punktów Guassa:  [-0.57735027  0.57735027]\n",
      "3\n",
      "Miejsca zerowe wielomianu Legendre: [ 0.77459667 -0.77459667  0.        ]\n",
      "Odcięte punktów Guassa:  [-0.77459667  0.          0.77459667]\n",
      "4\n",
      "Miejsca zerowe wielomianu Legendre: [-0.86113631  0.86113631 -0.33998104  0.33998104]\n",
      "Odcięte punktów Guassa:  [-0.86113631 -0.33998104  0.33998104  0.86113631]\n"
     ]
    }
   ],
   "source": [
    "for i in range(2,5):\n",
    "    print(i)\n",
    "    f = legendre(i)\n",
    "    print(\"Miejsca zerowe wielomianu Legendre:\", f.r)\n",
    "    print(\"Odcięte punktów Guassa: \", special.roots_legendre(i)[0])"
   ]
  },
  {
   "cell_type": "markdown",
   "metadata": {},
   "source": [
    "Miejsca zerowe wielomianów oratgonalnych Legendre'a wylicznonych przeze mnie zgadzają się z odciętymi kwadratury Gaussa dla przedziału (-1,1). Przy ich pomocy możemy policzyć całkę jako sumę ilorazu odpowiednych współczynników i wartości funkcji w miejscach zerowych "
   ]
  },
  {
   "cell_type": "markdown",
   "metadata": {},
   "source": [
    "# Zad 4"
   ]
  },
  {
   "cell_type": "markdown",
   "metadata": {},
   "source": [
    "c) "
   ]
  },
  {
   "cell_type": "code",
   "execution_count": 23,
   "metadata": {},
   "outputs": [],
   "source": [
    "def gauss(f, k): \n",
    "    coeff = special.roots_legendre(k)[1]\n",
    "    w = special.roots_legendre(k)[0]\n",
    "#     print(\"Współczynniki: \", coeff)\n",
    "#     print(\"Miejsca zerowe: \", w)\n",
    "    ans = 0\n",
    "    for el in range(k):\n",
    "        ans += coeff[el]*f(w[el])  \n",
    "    return ans"
   ]
  },
  {
   "cell_type": "code",
   "execution_count": 24,
   "metadata": {},
   "outputs": [
    {
     "name": "stdout",
     "output_type": "stream",
     "text": [
      "k = 2\n",
      "Stopień wielomianu: 0\n",
      "Gauss: 2.0 Analitycznie: 2.0\n",
      "Stopień wielomianu: 1\n",
      "Gauss: 0.0 Analitycznie: 0.0\n",
      "Stopień wielomianu: 2\n",
      "Gauss: 0.6666666666666666 Analitycznie: 0.6666666666666666\n",
      "Stopień wielomianu: 3\n",
      "Gauss: 0.0 Analitycznie: 0.0\n",
      "Stopień wielomianu: 4\n",
      "Gauss: 0.22222222222222218 Analitycznie: 0.4\n",
      "Stopień wielomianu: 5\n",
      "Gauss: 0.0 Analitycznie: 0.0\n",
      "Stopień wielomianu: 6\n",
      "Gauss: 0.07407407407407404 Analitycznie: 0.2857142857142857\n",
      "Stopień wielomianu: 7\n",
      "Gauss: 0.0 Analitycznie: 0.0\n",
      "Stopień wielomianu: 8\n",
      "Gauss: 0.024691358024691346 Analitycznie: 0.2222222222222222\n",
      "\n",
      "k = 3\n",
      "Stopień wielomianu: 0\n",
      "Gauss: 1.9999999999999996 Analitycznie: 2.0\n",
      "Stopień wielomianu: 1\n",
      "Gauss: 0.0 Analitycznie: 0.0\n",
      "Stopień wielomianu: 2\n",
      "Gauss: 0.666666666666667 Analitycznie: 0.6666666666666666\n",
      "Stopień wielomianu: 3\n",
      "Gauss: 0.0 Analitycznie: 0.0\n",
      "Stopień wielomianu: 4\n",
      "Gauss: 0.40000000000000013 Analitycznie: 0.4\n",
      "Stopień wielomianu: 5\n",
      "Gauss: 0.0 Analitycznie: 0.0\n",
      "Stopień wielomianu: 6\n",
      "Gauss: 0.24000000000000013 Analitycznie: 0.2857142857142857\n",
      "Stopień wielomianu: 7\n",
      "Gauss: 0.0 Analitycznie: 0.0\n",
      "Stopień wielomianu: 8\n",
      "Gauss: 0.1440000000000001 Analitycznie: 0.2222222222222222\n",
      "\n",
      "k = 4\n",
      "Stopień wielomianu: 0\n",
      "Gauss: 2.0 Analitycznie: 2.0\n",
      "Stopień wielomianu: 1\n",
      "Gauss: 0.0 Analitycznie: 0.0\n",
      "Stopień wielomianu: 2\n",
      "Gauss: 0.6666666666666666 Analitycznie: 0.6666666666666666\n",
      "Stopień wielomianu: 3\n",
      "Gauss: 0.0 Analitycznie: 0.0\n",
      "Stopień wielomianu: 4\n",
      "Gauss: 0.39999999999999997 Analitycznie: 0.4\n",
      "Stopień wielomianu: 5\n",
      "Gauss: 0.0 Analitycznie: 0.0\n",
      "Stopień wielomianu: 6\n",
      "Gauss: 0.2857142857142857 Analitycznie: 0.2857142857142857\n",
      "Stopień wielomianu: 7\n",
      "Gauss: 0.0 Analitycznie: 0.0\n",
      "Stopień wielomianu: 8\n",
      "Gauss: 0.21061224489795913 Analitycznie: 0.2222222222222222\n",
      "\n"
     ]
    }
   ],
   "source": [
    "for k in range(2,5):\n",
    "    print(f'k = {k}')\n",
    "    for i, f in enumerate(functions):\n",
    "        print(f'Stopień wielomianu: {i}')\n",
    "        print(F'Gauss: {gauss(f, k)} Analitycznie: {analytical(-1,1,i)}' )\n",
    "    print(\"\")"
   ]
  },
  {
   "cell_type": "markdown",
   "metadata": {},
   "source": [
    "Przy k równym 2 metoda nie jest dokładna dla wielomianu stopnia 4, dla k równego 3 błąd pojawia się przy wilomianie stopnia 6, a przy k wynoszącym 4 przy stopniu 8. Zgadza się to z twierdzeniem, że stopień dokładności wynosi 2k-1 dla k-punkotwej kwadratury. "
   ]
  },
  {
   "cell_type": "markdown",
   "metadata": {},
   "source": [
    "# Zad 5 "
   ]
  },
  {
   "cell_type": "code",
   "execution_count": 25,
   "metadata": {},
   "outputs": [],
   "source": [
    "def gauss(f, k):\n",
    "    coeff = special.roots_legendre(k)[1]\n",
    "    weights = special.roots_legendre(k)[0]\n",
    "    ans = 0\n",
    "    for el in range(k):\n",
    "        ans += coeff[el]*f(weights[el])  \n",
    "    return ans\n",
    "\n",
    "\n",
    "def gauss_interval(f, k, a, b):\n",
    "    g = lambda x: f((b + a)/ 2 + (b - a)/ 2 * x)\n",
    "    return gauss(g, k) * (b - a)/ 2\n",
    "\n",
    "f = lambda x: x**6-x**2*np.sin(2*x)"
   ]
  },
  {
   "cell_type": "code",
   "execution_count": 26,
   "metadata": {},
   "outputs": [
    {
     "name": "stdout",
     "output_type": "stream",
     "text": [
      "Stopień:  0\n",
      "Gauss:  3.999999999999999\n",
      "Analitycznie:  4.0\n",
      "Stopień:  1\n",
      "Gauss:  7.999999999999998\n",
      "Analitycznie:  8.0\n",
      "Stopień:  2\n",
      "Gauss:  21.333333333333332\n",
      "Analitycznie:  21.333333333333332\n",
      "Stopień:  3\n",
      "Gauss:  64.0\n",
      "Analitycznie:  64.0\n",
      "Stopień:  4\n",
      "Gauss:  204.80000000000004\n",
      "Analitycznie:  204.8\n",
      "Stopień:  5\n",
      "Gauss:  682.6666666666667\n",
      "Analitycznie:  682.6666666666666\n",
      "Stopień:  6\n",
      "Gauss:  2334.7200000000007\n",
      "Analitycznie:  2340.5714285714284\n",
      "Stopień:  7\n",
      "Gauss:  8110.080000000003\n",
      "Analitycznie:  8192.0\n",
      "Stopień:  8\n",
      "Gauss:  28431.701333333345\n",
      "Analitycznie:  29127.11111111111\n"
     ]
    }
   ],
   "source": [
    "for i, f in enumerate(functions):\n",
    "    print(\"Stopień: \", i)\n",
    "    print(\"Gauss: \", gauss_interval(f, 3, 0, 4))\n",
    "    print(\"Analitycznie: \", analytical(0, 4, i))"
   ]
  },
  {
   "cell_type": "markdown",
   "metadata": {},
   "source": [
    "Jak widać wyniki są takie same lub bardzo zbliżone dla wielomianów do stopnia 5 (włącznie) przy kwadraturze 3-punktowej. "
   ]
  }
 ],
 "metadata": {
  "kernelspec": {
   "display_name": "Python 3",
   "language": "python",
   "name": "python3"
  },
  "language_info": {
   "codemirror_mode": {
    "name": "ipython",
    "version": 3
   },
   "file_extension": ".py",
   "mimetype": "text/x-python",
   "name": "python",
   "nbconvert_exporter": "python",
   "pygments_lexer": "ipython3",
   "version": "3.8.5"
  }
 },
 "nbformat": 4,
 "nbformat_minor": 4
}
